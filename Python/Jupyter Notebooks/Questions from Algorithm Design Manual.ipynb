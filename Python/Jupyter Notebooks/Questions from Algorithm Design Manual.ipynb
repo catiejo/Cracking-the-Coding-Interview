{
 "cells": [
  {
   "cell_type": "markdown",
   "metadata": {},
   "source": [
    "Compute the mode."
   ]
  },
  {
   "cell_type": "code",
   "execution_count": 7,
   "metadata": {},
   "outputs": [
    {
     "data": {
      "text/plain": [
       "5"
      ]
     },
     "execution_count": 7,
     "metadata": {},
     "output_type": "execute_result"
    }
   ],
   "source": [
    "def findHighestMode(a):\n",
    "    valueFrequencies = dict()\n",
    "    modeValue = None\n",
    "    modeFrequency = 0\n",
    "    for value in a:\n",
    "        if value not in valueFrequencies:\n",
    "            valueFrequencies[value] = 0\n",
    "        valueFrequencies[value] += 1\n",
    "        if valueFrequencies[value] > modeFrequency:\n",
    "            modeValue = value\n",
    "            modeFrequency = valueFrequencies[value]\n",
    "        elif valueFrequencies[value] == modeFrequency and value > modeValue:\n",
    "            modeValue = value\n",
    "    return modeValue\n",
    "\n",
    "findHighestMode([1, 2, 2, 3, 4, 2, 5, 5, 5, 5, 8])"
   ]
  }
 ],
 "metadata": {
  "kernelspec": {
   "display_name": "Python 3",
   "language": "python",
   "name": "python3"
  },
  "language_info": {
   "codemirror_mode": {
    "name": "ipython",
    "version": 3
   },
   "file_extension": ".py",
   "mimetype": "text/x-python",
   "name": "python",
   "nbconvert_exporter": "python",
   "pygments_lexer": "ipython3",
   "version": "3.6.1"
  }
 },
 "nbformat": 4,
 "nbformat_minor": 2
}
