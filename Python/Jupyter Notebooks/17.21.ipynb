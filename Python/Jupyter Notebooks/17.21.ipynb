{
 "cells": [
  {
   "cell_type": "markdown",
   "metadata": {},
   "source": [
    "# Volume of Histogram \n",
    "Imagine a histogram (bar graph). Design an algorithm to compute the volume of water it could hold if someone poured water across the top. You can assume each histogram bar has width 1."
   ]
  },
  {
   "cell_type": "markdown",
   "metadata": {},
   "source": [
    "### Solution 1: Brute Force\n",
    "In this solution, you need to find the max value of the histogram (or a max if there's more than one), and imagine pouring water at that point. In this case, water would flow left and right from this point, filling the lower bars (or empty slots) with water. This can be done with the following steps:\n",
    "\n",
    "1. Find the/a max in the array.\n",
    "2. Find the/a max in the left subarray (start to max - 1)\n",
    "3. Calculate the water between these two peaks\n",
    "4. Move onto the leftmost max and repeat until you reach the beginning of the array.\n",
    "3. Do the same for the right subarray (max + 1 to end), repeating until the end.\n",
    "\n",
    "This is a fairly straightforward way to approach this problem, and it's nice that this solution takes O(1) space. However, in the worst case (a sorted list asc/desc), this algorithm performs on the order of O(n^2). "
   ]
  },
  {
   "cell_type": "code",
   "execution_count": 2,
   "metadata": {
    "collapsed": true
   },
   "outputs": [],
   "source": [
    "import math\n",
    "\n",
    "def fillWithWater(a):\n",
    "    leftPeak = getPeakIndex(a, 0, len(a))\n",
    "    rightPeak = leftPeak\n",
    "    water = 0\n",
    "    # go left\n",
    "    while leftPeak > 0:\n",
    "        nextPeak = getPeakIndex(a, 0, leftPeak)\n",
    "        water += howMuchWater(a, nextPeak, leftPeak)\n",
    "        leftPeak = nextPeak\n",
    "    # go right\n",
    "    while rightPeak < (len(a) - 1):\n",
    "        nextPeak = getPeakIndex(a, rightPeak + 1, len(a))\n",
    "        water += howMuchWater(a, rightPeak, nextPeak)\n",
    "        rightPeak = nextPeak\n",
    "    return water\n",
    "\n",
    "def howMuchWater(a, start, end):\n",
    "    waterLevel = min(a[start], a[end])\n",
    "    water = 0\n",
    "    for i in range(start + 1, end):\n",
    "        water += waterLevel - a[i]\n",
    "    return water\n",
    "\n",
    "def getPeakIndex(a, start, end):\n",
    "    peakIndex = start\n",
    "    for i in range(start, end):\n",
    "        if a[i] > a[peakIndex]:\n",
    "            peakIndex = i\n",
    "    return peakIndex"
   ]
  },
  {
   "cell_type": "markdown",
   "metadata": {},
   "source": [
    "### Solution 2: Precomputing an array of maxes to the right.\n",
    "###### *Disclaimer: this solution is crazy.*\n",
    "\n",
    "Realize that, in the previous solution, the problem was with `getPeakIndex`. In a sorted list, the next peak is always right next to the current peak, so not only does the histogram not even hold water, `getPeakIndex` turns the algorithm into O(n^2).\n",
    "\n",
    "So how do we fix that? The key insight here is that you can compute an array of the maxes on the left/right by rolling forward/backward through the array, respectively. So now the steps become:\n",
    "\n",
    "1. Compute the array of maxes from the right.\n",
    "2. Compute the array of maxes from the left.\n",
    "3. For each bar in the histogram, subtract its height from the smallest peak on either side, and add that to the sum.\n",
    "\n",
    "##### An Example\n",
    "Imagine you have the array `[3, 1, 2, 4, 1, 1, 2]`. \n",
    "\n",
    "* If you start from the right and move left, you can always be sure to know the next highest element to your right. So if you compute this array, you would get `[4, 4, 4, 2, 2, 2, 2]`. \n",
    "* Similarly, the maxes from the left would be `[3, 3, 3, 4, 4, 4, 4]`, but you don't actually have to compute this array, you can just keep track of the max when going through the array in the next step.\n",
    "* As you iterate through the histogram, you compare the peaks on either side of the current element. Whichever one is lower dictates the water level, so simply subtract the current bar height from the smaller of its peaks. At the end of the pass, you're fucking done."
   ]
  },
  {
   "cell_type": "code",
   "execution_count": 3,
   "metadata": {
    "collapsed": true
   },
   "outputs": [],
   "source": [
    "def fillWithWaterOptimized(a):\n",
    "    rightMaxes = getMaxesFromRight(a)\n",
    "    water = 0\n",
    "    curLeftMax = a[0]\n",
    "    for index, height in enumerate(a):\n",
    "        curLeftMax = max(height, curLeftMax)\n",
    "        water += min(curLeftMax, rightMaxes[index]) - height\n",
    "    return water\n",
    "\n",
    "def getMaxesFromRight(a):\n",
    "    end = len(a) - 1\n",
    "    maxArray = [None] * len(a)\n",
    "    maxHeight = a[end]\n",
    "    for i, height in enumerate(reversed(a)):\n",
    "        maxHeight = max(height, maxHeight)\n",
    "        maxArray[end - i] = maxHeight\n",
    "    return maxArray"
   ]
  },
  {
   "cell_type": "markdown",
   "metadata": {},
   "source": [
    "### Here are some tests.\n",
    "In case you don't believe me..."
   ]
  },
  {
   "cell_type": "code",
   "execution_count": 4,
   "metadata": {},
   "outputs": [
    {
     "name": "stdout",
     "output_type": "stream",
     "text": [
      "*****the normal answer for [3, 1, 2, 4, 3, 2, 1] is: 3\n",
      "*****the better answer for [3, 1, 2, 4, 3, 2, 1] is: 3\n",
      "*****the normal answer for [0, 0, 0] is: 0\n",
      "*****the better answer for [0, 0, 0] is: 0\n",
      "*****the normal answer for [7] is: 0\n",
      "*****the better answer for [7] is: 0\n",
      "*****the normal answer for [0, 7, 0] is: 0\n",
      "*****the better answer for [0, 7, 0] is: 0\n",
      "*****the normal answer for [7, 7, 7] is: 0\n",
      "*****the better answer for [7, 7, 7] is: 0\n",
      "*****the normal answer for [2, 1, 2] is: 1\n",
      "*****the better answer for [2, 1, 2] is: 1\n",
      "*****the normal answer for [2, 0, 3, 0, 1] is: 3\n",
      "*****the better answer for [2, 0, 3, 0, 1] is: 3\n",
      "*****the normal answer for [1, 2, 3, 4] is: 0\n",
      "*****the better answer for [1, 2, 3, 4] is: 0\n",
      "*****the normal answer for [4, 3, 2, 1] is: 0\n",
      "*****the better answer for [4, 3, 2, 1] is: 0\n",
      "*****the normal answer for [1, 3, 2, 1, 3, 3, 1, 2, 3, 1, 2, 0, 0, 2] is: 11\n",
      "*****the better answer for [1, 3, 2, 1, 3, 3, 1, 2, 3, 1, 2, 0, 0, 2] is: 11\n"
     ]
    }
   ],
   "source": [
    "tests = []\n",
    "tests.append([3, 1, 2, 4, 3, 2, 1])\n",
    "tests.append([0, 0, 0])\n",
    "tests.append([7])\n",
    "tests.append([0, 7, 0])\n",
    "tests.append([7, 7, 7])\n",
    "tests.append([2, 1, 2])\n",
    "tests.append([2, 0, 3, 0, 1])\n",
    "tests.append([1, 2, 3, 4])\n",
    "tests.append([4, 3, 2, 1])\n",
    "tests.append([1, 3, 2, 1, 3, 3, 1, 2, 3, 1, 2, 0, 0, 2])\n",
    "\n",
    "for histogram in tests:\n",
    "    print(\"*****the normal answer for\", histogram, \"is:\", fillWithWater(histogram))    \n",
    "    print(\"*****the better answer for\", histogram, \"is:\", fillWithWaterOptimized(histogram))"
   ]
  }
 ],
 "metadata": {
  "kernelspec": {
   "display_name": "Python 3",
   "language": "python",
   "name": "python3"
  },
  "language_info": {
   "codemirror_mode": {
    "name": "ipython",
    "version": 3
   },
   "file_extension": ".py",
   "mimetype": "text/x-python",
   "name": "python",
   "nbconvert_exporter": "python",
   "pygments_lexer": "ipython3",
   "version": "3.6.1"
  }
 },
 "nbformat": 4,
 "nbformat_minor": 2
}
