{
 "cells": [
  {
   "cell_type": "markdown",
   "metadata": {},
   "source": [
    "# You Work at the North Pole\n",
    "Every day, little children around the world write letters to Santa telling him what they want for christmas. Santa reads these letters, and if the child is nice, the gift gets made by one of the elves, wrapped, and put in santa's sleigh to be delivered on Christmas Eve. If the child is naughty, Santa puts coal in their stocking. Coal doesn't need to be wrapped, but it does need to be put in Santa's sleigh.\n",
    "\n",
    "In an attempt to teach myself threading in python, I'm going to create a working, multi-threaded model of Santa's workshop. "
   ]
  },
  {
   "cell_type": "markdown",
   "metadata": {},
   "source": [
    "## All By My Elf\n",
    "For now, let's assume Santa's workshop has undergone some budget cuts, and only has one elf employed. Making a present takes a variable amount of time--we'll just pass the amount of time with the wish. Wrapping a present takes a constant amount of time: 10 minutes. For now, we're just going to assume all children are good, so these two tasks can be represented by the following functions:"
   ]
  },
  {
   "cell_type": "code",
   "execution_count": 1,
   "metadata": {
    "collapsed": true
   },
   "outputs": [],
   "source": [
    "import time\n",
    "import random\n",
    "\n",
    "def make_wish_come_true(wish, construction_time):\n",
    "    time.sleep(construction_time)\n",
    "    return wish\n",
    "        \n",
    "def wrap_present(present):\n",
    "    time.sleep(0.1)\n",
    "    return present"
   ]
  },
  {
   "cell_type": "markdown",
   "metadata": {},
   "source": [
    "So to fill Santa's sleigh, our lone elf gathers the letters, makes the toys, wraps the toys, and puts them in the sleigh. If a child is naughty, we'll just toss some coal directly into the sleigh; no use wasting an elf's precious time on a bratty kid."
   ]
  },
  {
   "cell_type": "code",
   "execution_count": 2,
   "metadata": {
    "collapsed": true
   },
   "outputs": [],
   "source": [
    "import queue\n",
    "\n",
    "def fill_santas_sleigh(childrens_letters, santas_list):\n",
    "    # Santa gives nice kids' letters to elves so they can make them into toys.\n",
    "    letters = []\n",
    "    # Finished toys sit in a pile waiting to be wrapped.\n",
    "    toys = []\n",
    "    # Finished, wrapped toys.\n",
    "    sleigh = []\n",
    "    \n",
    "    for child, wish in childrens_letters.items():\n",
    "        # He's makin' a list...checkin' it twice!\n",
    "        if santas_list[child] == \"Naughty\" and santas_list[child] == \"Naughty\":\n",
    "            sleigh.append(\"Coal for \" + child)\n",
    "        else:\n",
    "            letters.append(wish + \" for \" + child)\n",
    "            \n",
    "    while letters:\n",
    "        toy = make_wish_come_true(letters.pop(), random.random()) # Random time between 0 and 1 hour\n",
    "        toys.append(toy)\n",
    "\n",
    "    while toys:\n",
    "        present = wrap_present(toys.pop())\n",
    "        sleigh.append(present)\n",
    "    \n",
    "    return sleigh"
   ]
  },
  {
   "cell_type": "markdown",
   "metadata": {},
   "source": [
    "To make sure this all works the way we expect it to, here's some sample data and a test to run it through!"
   ]
  },
  {
   "cell_type": "code",
   "execution_count": 3,
   "metadata": {},
   "outputs": [
    {
     "name": "stdout",
     "output_type": "stream",
     "text": [
      "['Coal for Steve', 'Coal for Lewis', 'Coal for Kate', 'Racecar for Jimmy', 'Nerf gun for Alison', 'Skateboard for Gwendylyn', 'Coloring book for Alex', 'Stuffed animal for Sue']\n"
     ]
    }
   ],
   "source": [
    "childrens_letters_2017 = {\n",
    "    \"Jimmy\":\"Racecar\",\n",
    "    \"Alison\":\"Nerf gun\",\n",
    "    \"Steve\":\"Bicycle\",\n",
    "    \"Gwendylyn\":\"Skateboard\",\n",
    "    \"Lewis\":\"Action figure\",\n",
    "    \"Kate\":\"Nintendo\",\n",
    "    \"Alex\":\"Coloring book\",\n",
    "    \"Sue\":\"Stuffed animal\"\n",
    "}\n",
    "\n",
    "santas_list_2017 = {\n",
    "    \"Jimmy\":\"Nice\",\n",
    "    \"Alison\":\"Nice\",\n",
    "    \"Steve\":\"Naughty\",\n",
    "    \"Gwendylyn\":\"Nice\",\n",
    "    \"Lewis\":\"Naughty\",\n",
    "    \"Kate\":\"Naughty\",\n",
    "    \"Alex\":\"Nice\",\n",
    "    \"Sue\":\"Nice\"\n",
    "}\n",
    "\n",
    "sleigh_2017 = fill_santas_sleigh(childrens_letters_2017, santas_list_2017)\n",
    "\n",
    "print (sleigh_2017)"
   ]
  },
  {
   "cell_type": "markdown",
   "metadata": {},
   "source": [
    "## Thread The Halls\n",
    "Ok, so the workshop is back in the black, and we now have a bunch of elves, not just one. But our `fill_santas_sleigh` function still operates the same, and the new recruits are getting bored. Wouldn't it be great if multiple elves could make and wrap presents in parallel? \n",
    "\n",
    "This is where threading comes in. Each elf is a thread, and it can either make or wrap a gift. So if we have \"n\" elves, we would want each elf to operate like this:\n",
    "\n",
    "1. If there are toys lying around waiting to be wrapped, wrap them and put them in the sleigh.\n",
    "2. If there aren't any toys made, go get a letter from santa and make that wish come true.\n",
    "3. If everything's made, wrapped, and in the sleigh, *exit* the workshop.\n",
    "\n",
    "There's an important caveat to realize here: if there are multiple elves looking for something to do, they need to do different things. For example, we don't want our little workers bickering over letters or breaking toys because they're both trying to wrap the same one. The solution? Locks. \n",
    "\n",
    "We want to make sure only one elf talks to Santa at a time, so if Santa is already busy giving a letter to another elf, other elves should quietly wait their turn. We'll call this a **`letter_lock`**. Similarly, to avoid fights with elves wanting to wrap the same toy (or elves getting hit by toys being thrown onto the pile), only one elf should approach the pile of toys at a time. The other elves *politely waiting their turn*--meaning we'll also have a **`toy_lock`**. Finally, we don't want elves throwing toys into the sleigh at the same time--they could collide and break! Christmas would be ruined! To avoid this catastrophe, we'll have a **`sleigh_lock`**.\n",
    "\n",
    "> ### A quick note on locks...\n",
    "> Locks are really important if the resource you're trying to access isn't threadsafe. Lists are a good example of this, but it's worth noting that there are other classes (queues come to mind) that are indeed threadsafe, so you don't have to bother with locks. Therefore, I'm intentionally choosing a sub-optimal data structure to more completely illustrate how multithreading works.\n",
    "\n",
    "\\*cough cough\\* With that non-metaphor-fitting blabber out of the way...let's create our own Elf class that is a subclass of Thread (found in the threading python module). During each elf's orientation training (`__init__` for all you programmers), he'll be given a badge with his name, get shown where to find Santa (who has the children's letters), the pile of toys, and Santa's sleigh. He'll also be told about the one-elf-at-a-time policies for each, and finally, given a deadline for how fast he has to complete toys."
   ]
  },
  {
   "cell_type": "code",
   "execution_count": 4,
   "metadata": {},
   "outputs": [],
   "source": [
    "import threading\n",
    "\n",
    "class Elf (threading.Thread):\n",
    "    def __init__(self, name, letter_location, toy_location, sleigh_location, letter_policy, toy_policy, sleigh_policy, toy_deadline):\n",
    "        threading.Thread.__init__(self)\n",
    "        self.name = name\n",
    "        self.letters = letter_location\n",
    "        self.toys = toy_location\n",
    "        self.sleigh = sleigh_location\n",
    "        self.turn_for_letter = letter_policy\n",
    "        self.turn_for_toy = toy_policy\n",
    "        self.turn_for_sleigh = sleigh_policy\n",
    "        self.deadline = toy_deadline\n",
    "#         print (self.name, \"is ready to make some toys!\")\n",
    "    \n",
    "    def run(self):\n",
    "        random_generator = random.Random()\n",
    "        while self.toys or self.letters:\n",
    "            # Grab a toy and let the next elf take their turn.\n",
    "            toy = None\n",
    "            with self.turn_for_toy:\n",
    "                if self.toys:\n",
    "                    toy = self.toys.pop()\n",
    "            # Wrap that toy and put it in the sleigh.\n",
    "            if toy:\n",
    "                present = wrap_present(toy)\n",
    "                with self.turn_for_sleigh:\n",
    "                    self.sleigh.append(present)\n",
    "#                 print (self.name, \"wrapped a\", present, \"and threw it in the sleigh\")\n",
    "                time.sleep(random_generator.random())\n",
    "                continue\n",
    "\n",
    "            # Grab a letter and let the next elf take their turn.\n",
    "            wish = None\n",
    "            with self.turn_for_letter:\n",
    "                if self.letters:\n",
    "                    wish = self.letters.pop()\n",
    "            # Make a toy and put it in the pile.\n",
    "            if wish:\n",
    "                toy = make_wish_come_true(wish, random_generator.randrange(self.deadline))\n",
    "                with self.turn_for_toy:\n",
    "                    self.toys.append(toy)\n",
    "#                 print (self.name, \"made a\", wish, \"and put it in the toy pile\")\n",
    "                time.sleep(random_generator.random())\n",
    "                continue\n",
    "                \n",
    "#         print (self.name, \"is punching out for the day!\")"
   ]
  },
  {
   "cell_type": "markdown",
   "metadata": {},
   "source": [
    "You'll notice in the code above that our elf class has a `run` method that follows the 3 steps we outlined above for how an elf should behave. When the function finishes, the elf (thread) exits. Notice this also holds a lot of the code we'd previously placed in `fill_santas_sleigh`, which means we'll want to modify that code as well. The multi-threaded code looks like this:"
   ]
  },
  {
   "cell_type": "code",
   "execution_count": 5,
   "metadata": {},
   "outputs": [],
   "source": [
    "santa_lock = threading.Lock()\n",
    "toy_lock = threading.Lock()\n",
    "sleigh_lock = threading.Lock()\n",
    "\n",
    "def everyone_fill_santas_sleigh(childrens_letters, santas_list, elves_names, max_toy_construction_time):\n",
    "    # Santa gives nice kids' letters to elves so they can make them into toys.\n",
    "    letters = []\n",
    "    # Finished toys sit in a pile waiting to be wrapped.\n",
    "    toys = []\n",
    "    # Finished, wrapped toys.\n",
    "    sleigh = []\n",
    "    \n",
    "    for child, wish in childrens_letters.items():\n",
    "        # He's makin' a list...checkin' it twice!\n",
    "        if santas_list[child] == \"Naughty\" and santas_list[child] == \"Naughty\":\n",
    "            sleigh.append(\"coal for \" + child)\n",
    "        else:\n",
    "            letters.append(wish + \" for \" + child)\n",
    "    \n",
    "    elves = []\n",
    "    for name in elves_names:\n",
    "        elf = Elf(name, letters, toys, sleigh, santa_lock, toy_lock, sleigh_lock, max_toy_construction_time)\n",
    "        elf.start()\n",
    "        elves.append(elf)\n",
    "\n",
    "    # Wait for all the elves to finish working before closing the workshop for the day.\n",
    "    for elf in elves:\n",
    "        elf.join()\n",
    "    \n",
    "    time.sleep(0.1)\n",
    "#     print (\"All clear! Shutting down the workshop for the day.\")\n",
    "    return sleigh"
   ]
  },
  {
   "cell_type": "markdown",
   "metadata": {},
   "source": [
    "So this code works pretty well. The beginning of the function is the same, and now the threads handle turning letters-->toys-->presents. There's also one more argument, a **`max_toy_construction_time`**, which allows us to play with the amount of time it takes to make toys."
   ]
  },
  {
   "cell_type": "markdown",
   "metadata": {},
   "source": [
    "# Merry Christmas To All!\n",
    "That's everything required for a multi-threaded version of the North Pole. To make sure everything's behaving as expected, here's our previous example, this time with the addition of 3 elves."
   ]
  },
  {
   "cell_type": "code",
   "execution_count": 6,
   "metadata": {},
   "outputs": [
    {
     "name": "stdout",
     "output_type": "stream",
     "text": [
      "All clear! Shutting down the workshop for the day.\n",
      "['coal for Steve', 'coal for Lewis', 'coal for Kate', 'Stuffed animal for Sue', 'Coloring book for Alex', 'Skateboard for Gwendylyn', 'Nerf gun for Alison', 'Racecar for Jimmy']\n"
     ]
    }
   ],
   "source": [
    "letters_2017 = {\n",
    "    \"Jimmy\":\"Racecar\",\n",
    "    \"Alison\":\"Nerf gun\",\n",
    "    \"Steve\":\"Bicycle\",\n",
    "    \"Gwendylyn\":\"Skateboard\",\n",
    "    \"Lewis\":\"Action figure\",\n",
    "    \"Kate\":\"Nintendo\",\n",
    "    \"Alex\":\"Coloring book\",\n",
    "    \"Sue\":\"Stuffed animal\"\n",
    "}\n",
    "\n",
    "santas_list_2017 = {\n",
    "    \"Jimmy\":\"Nice\",\n",
    "    \"Alison\":\"Nice\",\n",
    "    \"Steve\":\"Naughty\",\n",
    "    \"Gwendylyn\":\"Nice\",\n",
    "    \"Lewis\":\"Naughty\",\n",
    "    \"Kate\":\"Naughty\",\n",
    "    \"Alex\":\"Nice\",\n",
    "    \"Sue\":\"Nice\"\n",
    "}\n",
    "\n",
    "elves_names_2017 = {\n",
    "    \"Flint\",\n",
    "    \"Peabody\",\n",
    "    \"Keebler\"\n",
    "}\n",
    "\n",
    "sleigh_2017 = everyone_fill_santas_sleigh(letters_2017, santas_list_2017, elves_names_2017, 1)\n",
    "\n",
    "print (sleigh_2017)"
   ]
  },
  {
   "cell_type": "markdown",
   "metadata": {},
   "source": [
    "# ...And To All A Good Night\n",
    "Just in case you wanna do some stress testing, here's a test that runs through a list of over 4500 nouns! (It's updated regularly, so it keeps growing)"
   ]
  },
  {
   "cell_type": "code",
   "execution_count": 7,
   "metadata": {},
   "outputs": [
    {
     "name": "stdout",
     "output_type": "stream",
     "text": [
      "\u001b[95m Starting test with 10 elves, 100 letters, and up to 1 second per toy \u001b[0m\n",
      "All clear! Shutting down the workshop for the day.\n",
      "['coal for child0', 'coal for child3', 'coal for child4', 'coal for child5', 'coal for child17', 'coal for child21', 'coal for child22', 'coal for child23', 'coal for child31', 'coal for child32', 'coal for child34', 'coal for child53', 'coal for child58', 'coal for child60', 'coal for child63', 'coal for child69', 'coal for child88', 'coal for child96', 'coal for child98', 'millimeter for child99', 'cashier for child95', 'silo for child94', 'fragrance for child93', 'routine for child97', 'briefs for child92', 'verse for child91', 'chromolithograph for child90', 'cacao for child89', 'card for child87', 'horror for child86', 'meeting for child85', 'factor for child84', 'wire for child83', 'gander for child82', 'salesman for child81', 'tackle for child80', 'trolley for child79', 'jacket for child78', 'consideration for child77', 'subway for child76', 'frog for child75', 'temp for child74', 'resale for child73', 'ejector for child72', 'tanker for child71', 'hockey for child70', 'scimitar for child68', 'examiner for child67', 'cash for child66', 'marxism for child65', 'saddle for child64', 'spread for child62', 'nonconformist for child61', 'dependent for child59', 'perp for child57', 'sweat for child56', 'poet for child55', 'waterbed for child54', 'mercury for child52', 'joint for child51', 'ex-wife for child50', 'team for child49', 'mayonnaise for child48', 'cesspool for child47', 'bagpipe for child46', 'shield for child45', 'senator for child44', 'compassion for child43', 'pilot for child42', 'dictaphone for child41', 'mouser for child40', 'risk for child39', 'head for child38', 'decryption for child37', 'hypothermia for child36', 'song for child35', 'science for child33', 'hole for child30', 'pine for child29', 'fight for child28', 'facet for child27', 'contract for child26', 'jam for child25', 'paperback for child24', 'girdle for child20', 'pig for child19', 'spark for child18', 'stair for child16', 'runaway for child15', 'sweatshirt for child14', 'misplacement for child13', 'hamster for child12', 'report for child11', 'kettle for child10', 'yoga for child9', 'sympathy for child8', 'larch for child7', 'burglar for child6', 'proof-reader for child2', 'royal for child1']\n",
      "\u001b[94m \u001b[1m Holiday season took 9.37 seconds\n",
      " \u001b[0m\n",
      "\u001b[95m Starting test with 10 elves, 100 letters, and up to 2 second per toy \u001b[0m\n",
      "All clear! Shutting down the workshop for the day.\n",
      "['coal for child7', 'coal for child8', 'coal for child9', 'coal for child11', 'coal for child21', 'coal for child23', 'coal for child27', 'coal for child31', 'coal for child32', 'coal for child34', 'coal for child35', 'coal for child36', 'coal for child43', 'coal for child46', 'coal for child47', 'coal for child48', 'coal for child53', 'coal for child54', 'coal for child62', 'coal for child78', 'coal for child82', 'coal for child84', 'coal for child85', 'coal for child87', 'coal for child91', 'coal for child92', 'coal for child99', 'worm for child93', 'shortwave for child90', 'paste for child86', 'step-aunt for child89', 'speed for child94', 'therapist for child88', 'indication for child95', 'hardening for child96', 'vessel for child97', 'craw for child98', 'forebear for child81', 'whirlwind for child80', 'legal for child83', 'innocent for child79', 'shofar for child75', 'top for child73', 'otter for child72', 'mice for child70', 'bet for child77', 'silo for child74', 'meeting for child76', 'snowsuit for child71', 'injustice for child69', 'wolf for child65', 'canon for child68', 'blind for child64', 'gasoline for child67', 'crib for child66', 'netsuke for child59', 'bugle for child58', 'silver for child57', 'villa for child63', 'abdomen for child51', 'jasmine for child61', 'pajama for child60', 'shirt for child45', 'fedora for child44', 'monitor for child56', 'locket for child52', 'clasp for child55', 'emergence for child50', 'blackfish for child49', 'embossing for child41', 'version for child30', 'user for child29', 'paw for child42', 'petal for child33', 'nightingale for child37', 'swim for child38', 'slice for child39', 'pneumonia for child40', 'candidate for child28', 'sunroom for child24', 'math for child26', 'disco for child20', 'cougar for child18', 'presence for child16', 'pvc for child22', 'signup for child25', 'year for child15', 'tutu for child14', 'sofa for child19', 'policy for child17', 'fibre for child10', 'linen for child6', 'porter for child5', 'forecast for child13', 'birdbath for child12', 'george for child1', 'moccasins for child4', 'modem for child3', 'turtle for child2', 'tackle for child0']\n",
      "\u001b[94m \u001b[1m Holiday season took 13.38 seconds\n",
      " \u001b[0m\n",
      "\u001b[95m Starting test with 50 elves, 100 letters, and up to 1 second per toy \u001b[0m\n",
      "All clear! Shutting down the workshop for the day.\n",
      "['coal for child1', 'coal for child2', 'coal for child3', 'coal for child11', 'coal for child12', 'coal for child14', 'coal for child19', 'coal for child24', 'coal for child33', 'coal for child39', 'coal for child40', 'coal for child43', 'coal for child58', 'coal for child60', 'coal for child61', 'coal for child63', 'coal for child64', 'coal for child68', 'coal for child69', 'coal for child86', 'coal for child96', 'coal for child99', 'prosecution for child98', 'belt for child97', 'pince-nez for child95', 'icebreaker for child94', 'pha for child93', 'column for child92', 'engine for child90', 'karate for child91', 'strain for child88', 'upstairs for child89', 'education for child85', 'worthy for child87', 'party for child83', 'microlending for child84', 'compulsion for child82', 'chief for child74', 'pagoda for child80', 'sensitive for child78', 'angiosperm for child75', 'invention for child81', 'ringworm for child77', 'bunghole for child76', 'fee for child73', 'rich for child72', 'split for child79', 'white for child71', 'sack for child70', 'feed for child67', 'conga for child66', 'instrument for child65', 'law for child62', 'laborer for child59', 'intestine for child57', 'randomisation for child56', 'carbon for child55', 'sense for child54', 'wingtip for child53', 'fox for child52', 'exam for child51', 'option for child50', 'magic for child49', 'birthday for child48', 'laughter for child47', 'pasta for child46', 'lout for child45', 'century for child44', 'lobotomy for child42', 'protocol for child41', 'salesman for child38', 'lawsuit for child37', 'creme brulee for child36', 'pike for child35', 'dust for child34', 'timbale for child32', 'genetics for child31', 'dare for child30', 'introduction for child29', 'sharon for child28', 'badge for child27', 'marxism for child26', 'hoof for child25', 'hunt for child23', 'eggnog for child22', 'nougat for child21', 'numismatist for child20', 'schoolhouse for child18', 'phase for child17', 'eyeball for child16', 'vise for child15', 'stamina for child13', 'beech for child10', 'apron for child8', 'voyage for child9', 'tepee for child7', 'wall for child6', 'average for child5', 'brome for child4', 'mattress for child0']\n",
      "\u001b[94m \u001b[1m Holiday season took 2.53 seconds\n",
      " \u001b[0m\n",
      "\u001b[95m Starting test with 100 elves, 1000 letters, and up to 1 second per toy \u001b[0m\n",
      "All clear! Shutting down the workshop for the day.\n",
      "['coal for child2', 'coal for child5', 'coal for child6', 'coal for child8', 'coal for child10', 'coal for child11', 'coal for child18', 'coal for child20', 'coal for child21', 'coal for child22', 'coal for child23', 'coal for child26', 'coal for child31', 'coal for child36', 'coal for child38', 'coal for child47', 'coal for child57', 'coal for child66', 'coal for child68', 'coal for child70', 'coal for child76', 'coal for child90', 'coal for child97', 'coal for child108', 'coal for child111', 'coal for child116', 'coal for child123', 'coal for child130', 'coal for child132', 'coal for child135', 'coal for child136', 'coal for child137', 'coal for child138', 'coal for child140', 'coal for child143', 'coal for child146', 'coal for child150', 'coal for child151', 'coal for child153', 'coal for child160', 'coal for child162', 'coal for child165', 'coal for child180', 'coal for child195', 'coal for child197', 'coal for child198', 'coal for child199', 'coal for child209', 'coal for child217', 'coal for child226', 'coal for child228', 'coal for child229', 'coal for child231', 'coal for child238', 'coal for child240', 'coal for child246', 'coal for child249', 'coal for child252', 'coal for child253', 'coal for child254', 'coal for child261', 'coal for child265', 'coal for child271', 'coal for child272', 'coal for child276', 'coal for child282', 'coal for child294', 'coal for child303', 'coal for child304', 'coal for child307', 'coal for child314', 'coal for child318', 'coal for child319', 'coal for child326', 'coal for child331', 'coal for child337', 'coal for child340', 'coal for child344', 'coal for child354', 'coal for child357', 'coal for child362', 'coal for child363', 'coal for child369', 'coal for child371', 'coal for child377', 'coal for child378', 'coal for child381', 'coal for child402', 'coal for child408', 'coal for child409', 'coal for child413', 'coal for child416', 'coal for child419', 'coal for child420', 'coal for child429', 'coal for child436', 'coal for child439', 'coal for child444', 'coal for child447', 'coal for child452', 'coal for child454', 'coal for child456', 'coal for child459', 'coal for child467', 'coal for child471', 'coal for child480', 'coal for child487', 'coal for child492', 'coal for child494', 'coal for child497', 'coal for child511', 'coal for child515', 'coal for child522', 'coal for child530', 'coal for child537', 'coal for child539', 'coal for child544', 'coal for child549', 'coal for child550', 'coal for child552', 'coal for child554', 'coal for child555', 'coal for child559', 'coal for child560', 'coal for child572', 'coal for child575', 'coal for child584', 'coal for child585', 'coal for child586', 'coal for child589', 'coal for child591', 'coal for child595', 'coal for child600', 'coal for child603', 'coal for child613', 'coal for child615', 'coal for child617', 'coal for child620', 'coal for child627', 'coal for child632', 'coal for child633', 'coal for child634', 'coal for child642', 'coal for child644', 'coal for child645', 'coal for child649', 'coal for child652', 'coal for child678', 'coal for child679', 'coal for child680', 'coal for child686', 'coal for child690', 'coal for child691', 'coal for child699', 'coal for child701', 'coal for child702', 'coal for child714', 'coal for child716', 'coal for child723', 'coal for child725', 'coal for child729', 'coal for child732', 'coal for child736', 'coal for child737', 'coal for child738', 'coal for child740', 'coal for child744', 'coal for child750', 'coal for child760', 'coal for child769', 'coal for child770', 'coal for child776', 'coal for child778', 'coal for child782', 'coal for child783', 'coal for child785', 'coal for child787', 'coal for child788', 'coal for child789', 'coal for child791', 'coal for child807', 'coal for child809', 'coal for child813', 'coal for child825', 'coal for child827', 'coal for child828', 'coal for child829', 'coal for child830', 'coal for child833', 'coal for child835', 'coal for child838', 'coal for child843', 'coal for child857', 'coal for child858', 'coal for child860', 'coal for child861', 'coal for child865', 'coal for child869', 'coal for child870', 'coal for child873', 'coal for child874', 'coal for child876', 'coal for child878', 'coal for child880', 'coal for child883', 'coal for child884', 'coal for child887', 'coal for child890', 'coal for child901', 'coal for child902', 'coal for child922', 'coal for child923', 'coal for child927', 'coal for child928', 'coal for child930', 'coal for child944', 'coal for child945', 'coal for child947', 'coal for child948', 'coal for child949', 'coal for child957', 'coal for child968', 'coal for child979', 'coal for child982', 'coal for child989', 'coal for child991', 'coal for child993', 'coal for child998', 'activity for child997', 'driver for child996', 'championship for child995', 'ox for child999', 'yellow for child994', 'duster for child992', 'macrame for child990', 'dirndl for child987', 'crayfish for child988', 'preparation for child986', 'macadamia for child985', 'node for child984', 'reception for child983', 'high-rise for child981', 'slime for child980', 'sprinter for child978', 'metal for child977', 'bunkhouse for child976', 'towel for child975', 'girdle for child973', 'pagoda for child972', 'most for child974', 'shade for child971', 'sombrero for child970', 'exposition for child963', 'seaside for child967', 'vane for child965', 'pyjama for child969', 'magazine for child964', 'center for child966', 'teach for child960', 'mixture for child953', 'baker for child956', 'poignance for child955', 'yarmulke for child958', 'cherries for child959', 'flesh for child962', 'engine for child954', 'underpants for child961', 'larder for child952', 'dignity for child951', 'notice for child950', 'analogy for child946', 'film for child943', 'format for child942', 'document for child940', 'charge for child941', 'responsibility for child939', 'catch for child937', 'substance for child938', 'chain for child936', 'keystone for child935', 'pilgrimage for child934', 'cook for child933', 'random for child932', 'trout for child931', 'confectionery for child929', 'hedge for child926', 'modem for child925', 'jelly for child924', 'monger for child921', 'arrow for child920', 'attention for child919', 'hell for child918', 'moth for child917', 'curio for child916', 'scrim for child915', 'wrinkle for child914', 'clove for child913', 'seaplane for child912', 'parallelogram for child911', 'coin for child910', 'combat for child909', 'cicada for child908', 'composition for child907', 'support for child906', 'site for child905', 'age for child904', 'earplug for child903', 'hosiery for child900', 'kleenex for child899', 'minibus for child898', 'sad for child897', 'softening for child896', 'bidet for child895', 'parcel for child894', 'balloon for child893', 'sound for child892', 'inside for child891', 'still for child889', 'curl for child888', 'thomas for child886', 'brake for child885', 'teller for child882', 'emery for child881', 'spider for child879', 'call for child877', 'claim for child875', 'digital for child872', 'option for child871', 'dame for child868', 'church for child867', 'surgeon for child866', 'hard-hat for child864', 'bronchitis for child863', 'parsnip for child862', 'anger for child859', 'classic for child856', 'marxism for child855', 'bin for child854', 'ambition for child853', 'worklife for child852', 'squatter for child851', 'signet for child850', 'migrant for child849', 'sardine for child848', 'sorbet for child847', 'tatami for child846', 'fraudster for child845', 'gobbler for child844', 'earthworm for child842', 'poem for child841', 'material for child840', 'fishnet for child839', 'stick for child837', 'divider for child836', 'basketball for child834', 'steamroller for child832', 'toothpick for child831', 'skill for child826', 'guard for child824', 'apple for child823', 'quality for child822', 'debate for child821', 'lark for child820', 'shoelace for child819', 'photo for child818', 'hoof for child817', 'flytrap for child816', 'confirmation for child815', 'trove for child814', 'disaster for child812', 'love for child811', 'tin for child810', 'stock for child808', 'spandex for child806', 'complement for child805', 'homogenate for child804', 'e-reader for child803', 'copywriter for child802', 'hot-dog for child801', 'floor for child800', 'season for child799', 'inlay for child798', 'close for child797', 'cape for child796', 'literature for child795', 'boar for child794', 'square for child793', 'childhood for child792', 'felony for child786', 'acrylic for child790', 'hydrofoil for child784', 'being for child781', 'problem for child780', 'eave for child779', 'swallow for child777', 'arithmetic for child775', 'response for child774', 'casserole for child773', 'linen for child771', 'structure for child772', 'overcoat for child768', 'tard for child767', 'scraper for child766', 'disease for child765', 'drake for child764', 'bagpipe for child763', \"tam-o'-shanter for child762\", 'trainer for child761', 'well for child759', 'galoshes for child758', 'outside for child757', 'patch for child755', 'in-laws for child756', 'fragrance for child754', 'rambler for child753', 'handle for child752', 'bibliography for child751', 'insurgence for child749', 'gumshoes for child748', 'destroyer for child747', 'examination for child746', 'scow for child745', 'mantle for child743', 'beginner for child741', 'believe for child742', 'fence for child739', 'bulldozer for child735', 'dentist for child734', 'pastor for child733', 'shape for child731', 'interviewer for child730', 'eavesdropper for child728', 'wing for child727', 'card for child726', 'yacht for child724', 'wannabe for child722', 'pop for child721', 'list for child720', 'skylight for child718', 'rooster for child719', 'mathematics for child717', 'construction for child713', 'ophthalmologist for child715', 'carp for child712', 'county for child711', 'cooking for child710', 'carotene for child709', 'cartilage for child708', 'processing for child707', 'topsail for child706', 'fahrenheit for child705', 'sir for child704', 'patriot for child703', 'professor for child700', 'porter for child698', 'cravat for child697', 'slip for child696', 'shortwave for child695', 'hackwork for child694', 'lung for child693', 'somersault for child692', 'science for child689', 'hydrogen for child688', 'conclusion for child687', 'locker for child685', 'avenue for child684', 'fax for child683', 'sunglasses for child682', 'boogeyman for child681', 'jasmine for child677', 'flintlock for child676', 'opera for child675', 'glut for child674', 'infancy for child673', 'smell for child672', 'crocodile for child671', 'metronome for child670', 'fingernail for child669', 'pinafore for child668', 'button for child667', 'chill for child666', 'texture for child665', 'guilt for child664', 'emphasis for child663', 'iron for child662', 'chance for child661', 'thumb for child660', 'register for child659', 'stag for child658', 'stepson for child657', 'skullduggery for child656', 'fringe for child655', 'crash for child654', 'store for child653', 'happiness for child651', 'visor for child650', 'wholesaler for child648', 'clave for child647', 'gain for child646', 'visit for child643', 'wheat for child641', 'ferry for child640', 'maiden for child639', 'dinner for child638', 'tap for child637', 'knuckle for child636', 'parent for child635', 'harmony for child631', 'clank for child630', 'spirit for child629', 'effective for child628', 'ease for child626', 'clam for child625', 'cell for child624', 'elixir for child623', 'jail for child622', 'pay for child621', 'battery for child619', 'pine for child618', 'angiosperm for child616', 'vehicle for child614', 'vase for child612', 'semicircle for child611', 'wingman for child610', 'millisecond for child609', 'bestseller for child608', 'newsstand for child607', 'bough for child606', 'lumberman for child605', 'trapezium for child604', 'elevator for child602', 'rail for child601', 'interactive for child599', 'earthquake for child598', 'vixen for child597', 'theme for child596', 'cup for child594', 'jeans for child593', 'nobody for child592', 'text for child590', 'spray for child588', 'emotion for child587', 'share for child583', 'kohlrabi for child582', 'piss for child581', 'management for child580', 'girl for child579', 'weather for child578', 'congressperson for child577', 'maple for child576', 'dwelling for child574', 'slapstick for child573', 'quince for child571', 'skyscraper for child570', 'opossum for child569', 'pack for child568', 'desk for child567', 'porthole for child566', 'mattock for child565', 'yew for child564', 'ask for child563', 'display for child562', 'ravioli for child561', 'nightclub for child558', 'gerbil for child557', 'sneakers for child556', 'personality for child553', 'weedkiller for child551', 'bank for child548', 'outlay for child547', 'ballpark for child546', 'crack for child545', 'carpet for child543', 'outcome for child542', 'metallurgist for child540', 'indigence for child541', 'mitten for child538', 'subway for child536', 'swath for child535', 'deal for child534', 'natural for child533', 'performance for child532', 'orange for child531', 'grenade for child529', 'perch for child528', 'cleaner for child527', 'south for child526', 'yak for child525', 'ape for child524', 'examiner for child523', 'series for child521', 'agent for child520', 'yin for child519', 'leash for child518', 'pince-nez for child517', 'watch for child516', 'geyser for child513', 'pole for child514', 'worker for child512', 'coast for child510', 'midnight for child509', 'occupation for child508', 'crown for child507', 'hurt for child506', 'dibble for child505', 'plane for child504', 'poultry for child503', 'grouse for child502', 'cacao for child501', 'self for child500', 'bit for child499', 'croup for child498', 'hamburger for child496', 'metro for child495', 'blackberry for child493', 'ground for child491', 'week for child490', 'drop for child489', 'investment for child488', 'wife for child486', 'step-uncle for child485', 'temporariness for child484', 'spiral for child483', 'elephant for child482', 'netbook for child481', 'bag for child479', 'acupuncture for child478', 'whirlpool for child477', 'range for child476', 'banana for child475', 'slipper for child474', 'loss for child473', 'bat for child472', 'rotate for child470', 'tear for child469', 'access for child468', 'salon for child466', 'coverall for child465', 'match for child464', 'yoke for child463', 'former for child462', 'scheme for child460', 'cone for child461', 'orchard for child458', 'opinion for child457', 'maintenance for child455', 'harbor for child453', 'humour for child451', 'suburb for child450', 'delivery for child449', 'handsaw for child448', 'cheek for child446', 'object for child445', 'gauntlet for child443', 'cenotaph for child442', 'usage for child441', 'corduroy for child440', 'abdomen for child438', 'kneejerk for child437', 'hatred for child435', 'fleck for child434', 'vaulting for child433', 'router for child432', 'methodology for child431', 'dictionary for child430', 'underwire for child428', 'geology for child427', 'horse for child426', 'machinery for child425', 'election for child424', 'cart for child423', 'bijou for child422', 'weekender for child421', 'stonework for child418', 'copy for child417', 'handball for child415', 'maximum for child414', 'timeout for child412', 'great for child411', 'cargo for child410', 'ear for child407', 'ecliptic for child406', 'intention for child405', 'mouth for child404', 'cheque for child403', 'macrofauna for child401', 'monitor for child400', 'junket for child399', 'duck for child398', 'cream for child397', 'clock for child396', 'area for child395', 'wallaby for child394', 'fleece for child393', 'resort for child392', 'mortise for child391', 'bomb for child390', 'class for child389', 'hospitality for child388', 'contrail for child387', 'grill for child386', 'fang for child385', 'bayou for child384', 'clasp for child383', 'football for child382', 'resource for child380', 'bootie for child379', 'sow for child376', 'birch for child375', 'shallot for child374', 'steak for child373', 'crocus for child372', 'beach for child370', 'eggplant for child368', 'damage for child367', 'storyboard for child366', 'phrase for child365', 'gun for child364', 'shower for child361', 'housework for child360', 'astrakhan for child359', 'influence for child358', 'cliff for child356', 'listen for child355', 'circumference for child353', 'ratio for child352', 'passive for child351', 'technology for child350', 'flip-flops for child349', 'gossip for child348', 'scenery for child347', 'tinkle for child346', 'housing for child345', 'warden for child343', 'read for child342', 'lan for child341', 'step for child339', 'joke for child338', 'constellation for child336', 'badge for child335', 'cherry for child334', 'polish for child333', 'college for child332', 'george for child330', 'relief for child329', 'war for child328', 'ability for child327', 'authorization for child325', 'windage for child324', 'tip for child323', 'hospital for child322', 'content for child321', 'fear for child320', 'rayon for child317', 'chainstay for child316', 'shrine for child315', 'truth for child313', 'therapist for child312', 'footstool for child311', 'hippopotamus for child310', 'kale for child309', 'minion for child308', 'timber for child306', 'doll for child305', 'professional for child302', 'safe for child301', 'analogue for child300', 'muscle for child299', 'inbox for child298', 'umbrella for child296', 'order for child297', 'sweet for child295', 'big for child293', 'director for child292', 'capitulation for child291', 'permit for child290', 'if for child289', 'membership for child288', 'nutrition for child287', 'prompt for child286', 'randomisation for child285', 'anywhere for child284', 'wharf for child283', 'bowling for child281', 'menu for child280', 'radar for child279', 'salesman for child278', 'lapdog for child277', 'dessert for child275', 'facilities for child274', 'television for child273', 'reaction for child270', 'go-kart for child269', 'naturalisation for child268', 'pelt for child267', 'help for child266', 'protest for child264', 'parka for child263', 'bankbook for child262', 'consul for child260', 'application for child259', 'grab for child258', 'rum for child257', 'internal for child256', 'carry for child255', 'flu for child251', 'velvet for child250', 'shoehorn for child248', 'tugboat for child247', 'tale for child245', 'locomotive for child244', 'voyage for child243', 'grip for child242', 'den for child241', 'grocery for child239', 'tow-truck for child237', 'anime for child236', 'exchange for child235', 'plant for child234', 'example for child233', 'right for child232', 'dilapidation for child230', 'helmet for child227', 'hour for child225', 'handlebar for child224', 'depressive for child223', 'bud for child222', 'hot for child221', 'cloud for child220', 'look for child219', 'pump for child218', 'chino for child216', 'innervation for child215', 'adult for child214', 'witch-hunt for child213', 'eyelids for child212', 'gale for child211', 'network for child210', 'vise for child208', 'stitch for child207', 'atom for child206', 'mimosa for child205', 'codon for child204', 'mention for child203', 'blight for child202', 'basket for child201', 'snuggle for child200', 'earmuffs for child196', 'forestry for child194', 'child for child193', 'rag for child192', 'advance for child191', 'exit for child190', 'cymbal for child189', 'slash for child188', 'liquor for child187', 'gym for child186', 'bribery for child185', 'rhythm for child184', 'tavern for child183', 'neurobiologist for child182', 'stroke for child181', 'cousin for child179', 'lentil for child178', 'term for child177', 'waiter for child176', 'scene for child175', 'cod for child174', 'solution for child173', 'abroad for child172', 'hobby for child171', 'chairlift for child170', 'miscarriage for child169', 'barber for child168', 'tosser for child167', 'ringworm for child166', 'cultivator for child164', 'moat for child163', 'torchiere for child161', 'expansion for child159', 'obedience for child158', 'chug for child157', 'filth for child156', 'ghost for child155', 'virus for child154', 'euphonium for child152', 'vengeance for child149', 'dock for child148', 'publisher for child147', 'creche for child145', 'spasm for child144', 'textbook for child142', 'fishmonger for child141', 'zipper for child139', 'netsuke for child134', 'flock for child133', 'raspberry for child131', 'ton for child129', 'pinstripe for child128', 'pen for child127', 'easel for child126', 'conga for child125', 'incident for child124', 'pearl for child122', 'charity for child121', 'flat for child120', 'policy for child119', 'abuse for child118', 'beanstalk for child117', 'pickax for child115', 'precedent for child114', 'ambulance for child113', 'fortnight for child112', 'cellar for child110', 'criticism for child109', 'deathwatch for child107', 'playground for child106', 'canopy for child105', 'ballet for child104', 'division for child103', 'goodie for child102', 'velodrome for child101', 'stallion for child100', 'bubble for child99', 'frame for child98', 'jaw for child96', 'grouper for child95', 'nougat for child94', 'alligator for child93', 'notebook for child92', 'peony for child91', 'queen for child89', 'reading for child88', 'waistband for child87', 'cap for child86', 'recommendation for child85', 'many for child84', 'spelling for child83', 'shore for child82', 'liver for child81', 'user for child80', 'silver for child79', 'prison for child78', 'drizzle for child77', 'grit for child75', 'graph for child74', 'rain for child73', 'parking for child72', 'nightingale for child71', 'unit for child69', 'hotel for child67', 'oboe for child65', 'act for child64', 'current for child63', 'rivulet for child62', 'concentrate for child61', 'desert for child60', 'cross-contamination for child59', 'sloth for child56', 'wren for child58', 'helo for child55', 'row for child54', 'pronunciation for child53', 'mankind for child52', 'vineyard for child51', 'rub for child50', 'tulip for child48', 'eel for child49', 'friction for child46', 'chocolate for child45', 'kitchen for child44', 'tattler for child43', 'fortune for child42', 'profession for child41', 'priority for child40', 'honesty for child39', 'chop for child37', 'stem for child35', 'chiffonier for child34', 'hit for child33', 'interior for child32', 'goodbye for child30', 'will for child29', 'jiffy for child28', 'monasticism for child27', 'checkroom for child25', 'archeology for child24', 'condition for child19', 'ikebana for child17', 'cd for child16', 'street for child15', 'intelligence for child14', 'chivalry for child13', 'hops for child12', 'blackboard for child9', 'poverty for child7', 'miscommunication for child4', 'poncho for child3', 'yesterday for child1', 'columnist for child0']\n",
      "\u001b[94m \u001b[1m Holiday season took 9.63 seconds\n",
      " \u001b[0m\n"
     ]
    }
   ],
   "source": [
    "from urllib.request import urlopen\n",
    "\n",
    "# Helper class so we can print in color\n",
    "class color:\n",
    "    HEADER = '\\033[95m'\n",
    "    OKBLUE = '\\033[94m'\n",
    "    SUCCESS = '\\033[92m'\n",
    "    WARNING = '\\033[93m'\n",
    "    FAIL = '\\033[91m'\n",
    "    ENDC = '\\033[0m'\n",
    "    BOLD = '\\033[1m'\n",
    "    UNDERLINE = '\\033[4m'\n",
    "\n",
    "def simulate_north_pole(number_of_elves, number_of_letters, toy_contruction_time):\n",
    "    print (color.HEADER, \"Starting test with {} elves, {} letters, and up to {} second per toy\".format(number_of_elves, number_of_letters, toy_contruction_time), color.ENDC)\n",
    "    \n",
    "    # This gets a big list of nouns and puts it in a list of wishes.\n",
    "    word_site = \"http://www.desiquintans.com/downloads/nounlist/nounlist.txt\"\n",
    "    response = urlopen(word_site)\n",
    "    noun_list = response.read().splitlines()\n",
    "    wishes = random.sample(noun_list, min(number_of_letters, len(noun_list)))\n",
    "\n",
    "    santas_elves = list(map(lambda num: \"elf\" + str(num), range(number_of_elves)))\n",
    "    childrens_letters = {}\n",
    "    naughty_or_nice_list = {}\n",
    "\n",
    "    # Generate the children's letters and Santa's naughty/nice list.\n",
    "    for i, wish in enumerate(wishes):\n",
    "        childs_name = \"child\" + str(i)\n",
    "        child_is_nice = random.choice([True, True, True, False]) # Most children are nice\n",
    "        childrens_letters[childs_name] = wish.decode('utf-8') # Decode gets rid of b' prefix\n",
    "        naughty_or_nice_list[childs_name] = \"Nice\" if child_is_nice else \"Naughty\"\n",
    "\n",
    "    start = time.perf_counter()\n",
    "    sleigh = everyone_fill_santas_sleigh(childrens_letters, naughty_or_nice_list, santas_elves, toy_contruction_time)\n",
    "    end = time.perf_counter()\n",
    "    print (sleigh)\n",
    "    print (color.OKBLUE, color.BOLD, \"Holiday season took {0:.2f} seconds\\n\".format(end-start), color.ENDC)\n",
    "\n",
    "# Here are some tests:\n",
    "simulate_north_pole(number_of_elves=10, number_of_letters=100, toy_contruction_time=1)\n",
    "simulate_north_pole(number_of_elves=10, number_of_letters=100, toy_contruction_time=2)\n",
    "simulate_north_pole(number_of_elves=50, number_of_letters=100, toy_contruction_time=1)\n",
    "simulate_north_pole(number_of_elves=100, number_of_letters=1000, toy_contruction_time=1)\n"
   ]
  }
 ],
 "metadata": {
  "kernelspec": {
   "display_name": "Python 3",
   "language": "python",
   "name": "python3"
  },
  "language_info": {
   "codemirror_mode": {
    "name": "ipython",
    "version": 3
   },
   "file_extension": ".py",
   "mimetype": "text/x-python",
   "name": "python",
   "nbconvert_exporter": "python",
   "pygments_lexer": "ipython3",
   "version": "3.6.1"
  }
 },
 "nbformat": 4,
 "nbformat_minor": 2
}
