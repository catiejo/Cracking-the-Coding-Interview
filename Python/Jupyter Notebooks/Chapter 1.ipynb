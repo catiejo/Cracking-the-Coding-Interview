{
 "cells": [
  {
   "cell_type": "markdown",
   "metadata": {
    "collapsed": true
   },
   "source": [
    "**Is Unique:** Implement an algorithm to determine if a string has all unique characters. What if you cannot use an additional data structure?"
   ]
  },
  {
   "cell_type": "code",
   "execution_count": 5,
   "metadata": {},
   "outputs": [
    {
     "ename": "UnboundLocalError",
     "evalue": "local variable 'test_str' referenced before assignment",
     "output_type": "error",
     "traceback": [
      "\u001b[0;31m---------------------------------------------------------------------------\u001b[0m",
      "\u001b[0;31mUnboundLocalError\u001b[0m                         Traceback (most recent call last)",
      "\u001b[0;32m<ipython-input-5-0e2058fa4864>\u001b[0m in \u001b[0;36m<module>\u001b[0;34m()\u001b[0m\n\u001b[1;32m      4\u001b[0m \u001b[0;34m\u001b[0m\u001b[0m\n\u001b[1;32m      5\u001b[0m \u001b[0mtest_str\u001b[0m \u001b[0;34m=\u001b[0m \u001b[0;34m\"outside\"\u001b[0m\u001b[0;34m\u001b[0m\u001b[0m\n\u001b[0;32m----> 6\u001b[0;31m \u001b[0mlog_it\u001b[0m\u001b[0;34m(\u001b[0m\u001b[0;34m)\u001b[0m\u001b[0;34m\u001b[0m\u001b[0m\n\u001b[0m\u001b[1;32m      7\u001b[0m \u001b[0mtest_str\u001b[0m \u001b[0;34m=\u001b[0m \u001b[0;34m\"yummy\"\u001b[0m\u001b[0;34m\u001b[0m\u001b[0m\n\u001b[1;32m      8\u001b[0m \u001b[0mlog_it\u001b[0m\u001b[0;34m(\u001b[0m\u001b[0;34m)\u001b[0m\u001b[0;34m\u001b[0m\u001b[0m\n",
      "\u001b[0;32m<ipython-input-5-0e2058fa4864>\u001b[0m in \u001b[0;36mlog_it\u001b[0;34m()\u001b[0m\n\u001b[1;32m      1\u001b[0m \u001b[0;32mdef\u001b[0m \u001b[0mlog_it\u001b[0m\u001b[0;34m(\u001b[0m\u001b[0;34m)\u001b[0m\u001b[0;34m:\u001b[0m\u001b[0;34m\u001b[0m\u001b[0m\n\u001b[0;32m----> 2\u001b[0;31m     \u001b[0mprint\u001b[0m\u001b[0;34m(\u001b[0m\u001b[0mtest_str\u001b[0m\u001b[0;34m)\u001b[0m\u001b[0;34m\u001b[0m\u001b[0m\n\u001b[0m\u001b[1;32m      3\u001b[0m     \u001b[0mtest_str\u001b[0m \u001b[0;34m=\u001b[0m \u001b[0;34m\"inside\"\u001b[0m\u001b[0;34m\u001b[0m\u001b[0m\n\u001b[1;32m      4\u001b[0m \u001b[0;34m\u001b[0m\u001b[0m\n\u001b[1;32m      5\u001b[0m \u001b[0mtest_str\u001b[0m \u001b[0;34m=\u001b[0m \u001b[0;34m\"outside\"\u001b[0m\u001b[0;34m\u001b[0m\u001b[0m\n",
      "\u001b[0;31mUnboundLocalError\u001b[0m: local variable 'test_str' referenced before assignment"
     ]
    }
   ],
   "source": [
    "def log_it():\n",
    "    print(test_str)\n",
    "    test_str = \"inside\"\n",
    "\n",
    "test_str = \"outside\"\n",
    "log_it()\n",
    "test_str = \"yummy\"\n",
    "log_it()"
   ]
  },
  {
   "cell_type": "code",
   "execution_count": 2,
   "metadata": {},
   "outputs": [
    {
     "name": "stdout",
     "output_type": "stream",
     "text": [
      "False\n",
      "True\n"
     ]
    }
   ],
   "source": [
    "def isUnique(string):\n",
    "    bits = int(0)\n",
    "    for char in string:\n",
    "        if (bits & 1 << ord(char)) != 0:\n",
    "            return False\n",
    "        bits |= 1 << ord(char)\n",
    "    return True\n",
    "\n",
    "print(isUnique(\"banana\"))\n",
    "print(isUnique(\"ayx@#$\"))"
   ]
  },
  {
   "cell_type": "markdown",
   "metadata": {},
   "source": [
    "**Check Permutation:** Given two strings, write a method to decide if one is a permutation of the other."
   ]
  },
  {
   "cell_type": "code",
   "execution_count": 3,
   "metadata": {},
   "outputs": [
    {
     "name": "stdout",
     "output_type": "stream",
     "text": [
      "True\n"
     ]
    }
   ],
   "source": [
    "def arePermutations(first, second):\n",
    "    letters = dict()\n",
    "    for char in first:\n",
    "        if char not in letters:\n",
    "            letters[char] = 0\n",
    "        letters[char] += 1\n",
    "    for char in second:\n",
    "        if char not in letters:\n",
    "            return False\n",
    "        letters[char] -= 1\n",
    "        if letters[char] == 0:\n",
    "            letters.pop(char)\n",
    "    return not letters\n",
    "\n",
    "print(arePermutations(\"banana\", \"ananab\"))"
   ]
  },
  {
   "cell_type": "markdown",
   "metadata": {},
   "source": [
    "**Palindrome Permutation:** Given a string, write a function to check if it is a permutation of a palindrome. The palindrome does not need to be limited to just dictionary words."
   ]
  },
  {
   "cell_type": "code",
   "execution_count": 4,
   "metadata": {},
   "outputs": [
    {
     "name": "stdout",
     "output_type": "stream",
     "text": [
      "True\n",
      "True\n"
     ]
    }
   ],
   "source": [
    "def isPalindrome(pal):\n",
    "    bitmask = int(0)\n",
    "    for char in pal.lower():\n",
    "        if (char != ' '):\n",
    "            bitmask ^= 1 << ord(char)\n",
    "    return bitmask == 0 or ((bitmask - 1) & bitmask) == 0\n",
    "\n",
    "print(isPalindrome(\"Tact coa\"))\n",
    "print(isPalindrome(\"Tactcoa\"))"
   ]
  }
 ],
 "metadata": {
  "kernelspec": {
   "display_name": "Python 3",
   "language": "python",
   "name": "python3"
  },
  "language_info": {
   "codemirror_mode": {
    "name": "ipython",
    "version": 3
   },
   "file_extension": ".py",
   "mimetype": "text/x-python",
   "name": "python",
   "nbconvert_exporter": "python",
   "pygments_lexer": "ipython3",
   "version": "3.6.1"
  }
 },
 "nbformat": 4,
 "nbformat_minor": 2
}
