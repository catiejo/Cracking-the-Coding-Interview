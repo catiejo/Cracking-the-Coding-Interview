{
 "cells": [
  {
   "cell_type": "markdown",
   "metadata": {},
   "source": [
    "# Dynamic Programming\n",
    "Dynamic programming is really hard, and it's something that I pretty consistently struggle with. Today I went to the DP rabbit hole, and this is what I learned.\n",
    "\n",
    "## Tips and Tricks\n",
    "* Make a matrix.\n",
    "\n",
    "Find the minimum edit distance between two strings"
   ]
  },
  {
   "cell_type": "code",
   "execution_count": 16,
   "metadata": {},
   "outputs": [
    {
     "name": "stdout",
     "output_type": "stream",
     "text": [
      "[0, 1, 2, 3, 4, 5]\n",
      "[1, 1, 2, 3, 4, 5]\n",
      "[2, 2, 1, 2, 3, 4]\n",
      "[3, 3, 2, 2, 2, 3]\n",
      "[4, 4, 3, 2, 3, 3]\n",
      "3\n"
     ]
    }
   ],
   "source": [
    "def min_edit_distance(s1, s2):\n",
    "    buffer = list(range(len(s1) + 1))  \n",
    "    for row, ch2 in enumerate(s2):\n",
    "        tmp = [row + 1] * (len(s1) + 1)\n",
    "        for i, ch1 in enumerate(s1):\n",
    "            bi = i + 1 # buffer index\n",
    "            if ch1 == ch2:\n",
    "                tmp[bi] = buffer[bi - 1]\n",
    "            else:\n",
    "                min_dist = min(tmp[bi - 1], buffer[bi - 1], buffer[bi])\n",
    "                tmp[bi] = min_dist + 1\n",
    "        print(tmp[1:])\n",
    "        buffer = tmp\n",
    "    return buffer[-1]\n",
    "\n",
    "print(min_edit_distance(\"abcdef\", \"azced\"))"
   ]
  }
 ],
 "metadata": {
  "kernelspec": {
   "display_name": "Python 3",
   "language": "python",
   "name": "python3"
  },
  "language_info": {
   "codemirror_mode": {
    "name": "ipython",
    "version": 3
   },
   "file_extension": ".py",
   "mimetype": "text/x-python",
   "name": "python",
   "nbconvert_exporter": "python",
   "pygments_lexer": "ipython3",
   "version": "3.6.1"
  }
 },
 "nbformat": 4,
 "nbformat_minor": 2
}
