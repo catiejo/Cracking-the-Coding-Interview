{
 "cells": [
  {
   "cell_type": "markdown",
   "metadata": {},
   "source": [
    "# Interview Cake \\#16: [The Cake Thief](https://www.interviewcake.com/question/python/cake-thief)\n",
    "\n",
    "### You are a renowned thief who has recently switched from stealing precious metals to stealing cakes because of the insane profit margins. You end up hitting the jackpot, breaking into the world's largest privately owned stock of cakes—the vault of the Queen of England.\n",
    "\n",
    "While Queen Elizabeth has a limited number of *types of cake*, she has an *unlimited supply of each type*.\n",
    "\n",
    "Each type of cake has a weight and a value, stored in a tuple with two indices:\n",
    "* An integer representing the weight of the cake in kilograms\n",
    "* An integer representing the monetary value of the cake in British pounds\n",
    "\n",
    "You brought a duffel bag that can hold limited weight, and you want to make off with the most valuable haul possible.\n",
    "\n",
    "Write a function `max_duffel_bag_value()` that takes **a list of cake type tuples** and a **weight capacity**, and returns the ***maximum monetary value* the duffel bag can hold.**"
   ]
  },
  {
   "cell_type": "code",
   "execution_count": 1,
   "metadata": {
    "collapsed": true
   },
   "outputs": [],
   "source": [
    "def max_duffel_bag_value(cakes, capacity):\n",
    "    haul_values = [0] * (capacity + 1)\n",
    "    for weight, value in cakes:\n",
    "        if weight == 0 and value > 0:\n",
    "            return math.inf\n",
    "        for i in range(weight, capacity + 1):\n",
    "            best_haul = haul_values[i]\n",
    "            new_haul = haul_values[i - weight] + value\n",
    "            haul_values[i] = max(new_haul, best_haul)\n",
    "    return haul_values[capacity]"
   ]
  },
  {
   "cell_type": "markdown",
   "metadata": {},
   "source": [
    "### We know the *max value* we can carry, but which cakes should we take, and how many? Try adjusting your answer to return this information as well."
   ]
  },
  {
   "cell_type": "code",
   "execution_count": 2,
   "metadata": {
    "collapsed": true
   },
   "outputs": [],
   "source": [
    "def sum_cakes(cakes):\n",
    "    value = 0\n",
    "    for cake, quantity in cakes.items():\n",
    "        value += quantity * cake[1]\n",
    "    return value\n",
    "\n",
    "def add_cake_to_haul(cake, haul):\n",
    "    if cake not in haul:\n",
    "        haul[cake] = 0\n",
    "    haul[cake] += 1\n",
    "    return haul\n",
    "\n",
    "def steal_cakes(cakes, capacity):\n",
    "    hauls = [{} for i in range(capacity + 1)]\n",
    "    for cake_weight, cake_value in cakes:\n",
    "        if cake_weight == 0 and cake_value > 0:\n",
    "            return { (cake_weight, cake_value) : \"infinity\" }\n",
    "        for i in range(cake_weight, capacity + 1):\n",
    "            best_haul = sum_cakes(hauls[i])\n",
    "            new_haul = sum_cakes(hauls[i - cake_weight]) + cake_value\n",
    "            if new_haul > best_haul:\n",
    "                cake = (cake_weight, cake_value)\n",
    "                haul_without_cake = hauls[i - cake_weight].copy()\n",
    "                hauls[i] = add_cake_to_haul(cake, haul_without_cake)\n",
    "    return hauls[capacity]"
   ]
  },
  {
   "cell_type": "markdown",
   "metadata": {},
   "source": [
    "### What if we check to see if all the cake weights have a common denominator? Can we improve our algorithm?\n",
    "\n",
    "If all the weights have a common denominator, then you can set your interval to be the LCD. So instead of incrementing by 1 every time, you could instead do a loop like: `for i in range(cake_weight, capacity + 1, LCD)`."
   ]
  },
  {
   "cell_type": "markdown",
   "metadata": {},
   "source": [
    "### A cake that's both *heavier* and *worth less* than another cake would never be in the optimal solution. This idea is called dominance relations. Can you apply this idea to save some time? Hint: dominance relations can apply to sets of cakes, not just individual cakes.\n",
    "\n",
    "This is a really intersting way to optimize the cakes you look for. After all, if a cake weighs less and is worth more, you always prefer that over a cake that weighs more and is worth less--you'd rather take a 4lb, \\$50 cake and have one pound left over than a 5lb \\$40 cake where you'll end up with less money. These dominant cakes can be represented by the [Pareto Frontier](http://oco-carbon.com/metrics/find-pareto-frontiers-in-python/)...the subset of cakes that dominate the cakes that lie beyond it. \n",
    "\n",
    "![alt text](https://upload.wikimedia.org/wikipedia/commons/thumb/e/e2/PareoEfficientFrontier1024x1024.png/256px-PareoEfficientFrontier1024x1024.png \"Example of the Pareto Frontier\")\n",
    "\n",
    "So what this means for our problem is that we can narrow our cakes to be only those on the Pareto Frontier, thus reducing our value of n (the amount will vary on the cake distribution). To do this, I simply need to write a `get_pareto_cakes()` function, then call it before my main cake loop."
   ]
  },
  {
   "cell_type": "code",
   "execution_count": 3,
   "metadata": {},
   "outputs": [
    {
     "name": "stdout",
     "output_type": "stream",
     "text": [
      "[Cake(weight=1, value=4), Cake(weight=2, value=7), Cake(weight=3, value=10)]\n"
     ]
    }
   ],
   "source": [
    "from collections import namedtuple\n",
    "\n",
    "# For convenience/readability\n",
    "Cake = namedtuple(\"Cake\", (\"weight\", \"value\"))\n",
    "\n",
    "def get_pareto_cakes(cakes):\n",
    "    frontier = []\n",
    "    cakes = sorted(cakes)\n",
    "    best_cake = cakes[0]\n",
    "    for cake in cakes:\n",
    "        if cake.value > best_cake.value:\n",
    "            if cake.weight > best_cake.weight:\n",
    "                frontier.append(best_cake)\n",
    "            best_cake = cake\n",
    "    frontier.append(best_cake)\n",
    "    return frontier\n",
    "\n",
    "# Simple Test\n",
    "all_cakes = [Cake(1, 3), Cake(2, 7), Cake(3, 9), Cake(4, 9), Cake(5, 8), Cake(3, 10), Cake(1, 4)]\n",
    "print(get_pareto_cakes(all_cakes))"
   ]
  },
  {
   "cell_type": "markdown",
   "metadata": {},
   "source": [
    "### What if we had a tuple for *every individual cake* instead of types of cakes? So now there's not an unlimited supply of a type of cake—there's exactly one of each. This is a similar but harder problem, known as the 0/1 Knapsack problem.\n",
    "\n",
    "It makes it a bit harder but you can still use the same general approach! Now, since you can't use each element multiple times, you need to write to a temporary buffer to make sure you aren't incorporating that element in the sum. This adds an extra O(n) to create and/or merge the two buffers at the end of each pass, but since our complexity is O(n\\*m), it doesn't affect our bottom line. I actually already solved this problem in one of the In-Flight Entertainment (Interview Cake \\#14) bonus questions, so look there for an example solution.\n",
    "\n",
    "If you want to be able to elegantly re-trace your steps to find what elements are included in your knapsack, take a look at [this cool video](https://youtu.be/8LusJS5-AGo) by Tushar Roy."
   ]
  }
 ],
 "metadata": {
  "kernelspec": {
   "display_name": "Python 3",
   "language": "python",
   "name": "python3"
  },
  "language_info": {
   "codemirror_mode": {
    "name": "ipython",
    "version": 3
   },
   "file_extension": ".py",
   "mimetype": "text/x-python",
   "name": "python",
   "nbconvert_exporter": "python",
   "pygments_lexer": "ipython3",
   "version": "3.6.1"
  }
 },
 "nbformat": 4,
 "nbformat_minor": 2
}
