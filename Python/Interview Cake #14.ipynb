{
 "cells": [
  {
   "cell_type": "markdown",
   "metadata": {},
   "source": [
    "# Adventures In In-Flight Entertainment\n",
    "I bought a subscription to Interview Cake. So far, the questions have been a really good combination of breadth and depth, and today I went pretty far down a rabbit hole with one of the questions. [The question](https://www.interviewcake.com/question/python/inflight-entertainment) is about finding if a list comtains a pair of elements that sum to a specified value. The question goes like this: \n",
    "\n",
    "### You've built an inflight entertainment system with on-demand movie streaming.\n",
    "Users on longer flights like to start a second movie right when their first one ends, but they complain that the plane usually lands before they can see the ending. **So you're building a feature for choosing two movies whose total runtimes will equal the exact flight length.**\n",
    "\n",
    "Write a function that takes an integer `flight_length` (in minutes) and a list of integers `movie_lengths` (in minutes) and returns a boolean indicating whether there are two numbers in `movie_lengths` whose sum equals `flight_length`.\n",
    "\n",
    "When building your function:\n",
    "* Assume your users will watch exactly two movies\n",
    "* Don't make your users watch the same movie twice\n",
    "* Optimize for runtime over memory"
   ]
  },
  {
   "cell_type": "code",
   "execution_count": 1,
   "metadata": {
    "collapsed": true
   },
   "outputs": [],
   "source": [
    "# My first solution was pretty straight forward. \n",
    "def movie_match(flight_length, movie_lengths):\n",
    "    watched_movies = set()\n",
    "    for movie_length in movie_lengths:\n",
    "        complement = flight_length - movie_length\n",
    "        if complement in watched_movies:\n",
    "            return True\n",
    "        watched_movies.add(movie_length)\n",
    "    return False"
   ]
  },
  {
   "cell_type": "markdown",
   "metadata": {},
   "source": [
    "I liked this solution. It solves the question in O(n) time, where n is the number of movies, but also terminates early so that's only in the worst case. It also uses O(n) additional memory, but since the question asks us to optimize for runtime over memory, this seems fine. My solution also accounts quite nicely for edge cases:\n",
    "* If no two movies add up to the given flight time, it runs the entire loop and returns False\n",
    "* If the first two movies in a list equal the flight time, it returns without finishing the loop.\n",
    "* If there are multiple movies with the same runtime, we only store them once because we're using a set (as opposed to a list or other non-duplicate data structure)\n",
    "* We also use a set instead of a hash map because we don't need to store a (key, value), just a key\n",
    "* If there's a movie with length `flight_length/2`, we don't return a false positive because, we only add a movie to the set *after* we've checked for the complement.\n",
    "\n",
    "So I was ready to check this quesiton off the list and go on my merry way, but it turns out there were some pretty interesting bonus questions...\n",
    "\n",
    "### What if we wanted the movie lengths to sum to something close to the flight length (say, within 20 minutes)?\n",
    "The naive solution here is simply to just place our complement check in a for loop that iterates from `range(movie_length - margin_of_error, movie_length + margin_of_error + 1)`. However, this brings our nice O(n) time complexity to O(n\\*m) where me is the margin of error. We can do better.\n",
    "\n",
    "For my solution, I leveraged the fact that numbers in python can be arbitrarily large, so I can basically create one giant bit vector, then use a mask to check an entire range of times in O(1) time."
   ]
  },
  {
   "cell_type": "code",
   "execution_count": 2,
   "metadata": {
    "collapsed": true
   },
   "outputs": [],
   "source": [
    "def movie_almost_match(flight_length, movie_lengths, margin_of_error):\n",
    "    wiggle_room = 2 ** (margin_of_error + 1) - 1\n",
    "    total_range = 0\n",
    "    for movie_length in movie_lengths:\n",
    "        high_margin = wiggle_room << (movie_length + 1)\n",
    "        left_shift = movie_length - margin_of_error - 1\n",
    "        low_margin = wiggle_room << left_shift if left_shift > 0 else wiggle_room >> abs(left_shift)\n",
    "        exact_time = 1 << movie_length\n",
    "        acceptable_range = low_margin | exact_time | high_margin\n",
    "        if total_range & acceptable_range:\n",
    "            return True\n",
    "        complement = flight_length - movie_length\n",
    "        if complement > 0:\n",
    "            total_range |= 1 << (flight_length - movie_length)\n",
    "    return False    "
   ]
  },
  {
   "cell_type": "markdown",
   "metadata": {},
   "source": [
    "I really like this solution because not only does it not take a hit on runtime, but it will also probably use a bit less memory. In my earlier solution, we had to store n integers, plus the overhead of a set. With this solution, the space complexity becomes on the order of the length of the longest movie, which heuristically-speaking, is max 200 minutes. Especially as your list of movies becomes arbitrarily large, the savings of this over storing a bunch of ints in a set could be significant.\n",
    "\n",
    "...But wait, there's more!\n",
    "\n",
    "### What if we wanted to fill the flight length as nicely as possible with any number of movies (not just 2)?\n",
    "Again, a straight-forward solution is recursive backtracking with a healthy dose of memoization, but I wanted to do one better. This question immediately struck me as a dynamic programming question, and since this is a particularly weak area for me, I went head first.\n",
    "\n",
    "The spark of intuition came when I realized the similarity between this problem and another Interview Cake question, [Making Change](https://www.interviewcake.com/question/python/coin). The problem here, however, was that just doing this approach verbatum wasn't going to work--it allows you to watch the same movie multiple times. For example, say we have a 100 minute flight and a movie that's 25 minutes long, using the dynamic approach from the earlier question, watching the movie 4 times in a row was considered an acceptable solution. However, the problem scope specificaly states that's not ok. \n",
    "\n",
    "Overwriting the actual buffer works up until 2(movie_length) - 1, at which point you start using the current movie's values with itself. My solution? A temp buffer! Instead of writing `buffer[minute] += buffer[minute - movie_length]`, I wrote it as `temp_buffer = buffer[minute] + buffer[minute - movie_length]`. Then, just update the pointer reference and create a new temp buffer (O(n), but that gets eaten by the larger time complexity), and voila! A dynamic approach."
   ]
  },
  {
   "cell_type": "code",
   "execution_count": 3,
   "metadata": {
    "collapsed": true
   },
   "outputs": [],
   "source": [
    "def dynamic_movie_match(flight_length, movie_lengths):\n",
    "    final_buffer = get_empty_buffer(flight_length)\n",
    "    temp_buffer = get_empty_buffer(flight_length)\n",
    "    for movie_length in movie_lengths:\n",
    "        for minute in range(movie_length, flight_length + 1):\n",
    "            temp_buffer[minute] = final_buffer[minute] + final_buffer[minute - movie_length]\n",
    "        final_buffer = temp_buffer\n",
    "        temp_buffer = get_empty_buffer(flight_length)\n",
    "        # Quick check for early termination\n",
    "        if final_buffer[flight_length] > 0:\n",
    "            return True\n",
    "    return False\n",
    "\n",
    "def get_empty_buffer(size):\n",
    "    return [1] + [0] * size"
   ]
  },
  {
   "cell_type": "markdown",
   "metadata": {},
   "source": [
    "I'm really freaking proud of this code for a couple reasons:\n",
    "1. Dynamic programming is really hard for me, and I love how beautifully this code solves the problem! It has O(n\\*m) time and O(n) space complexity, which is so much better than the brute force solution, which could be (in the worst case w/o memoization) on the order of n!\n",
    "2. It's also really easy to adapt this code if the question became \"What's the closest time we could get to the entire flight?\". Instead of return True/False, you could just return the flight_time, or the closest index to flight_time with a non-zero value, which is pretty neat if I say so myself.\n",
    "3. It's equally easy to return the number of movies you have to watch to fill your flight time!\n",
    "\n",
    "Finally, there was one more bonus question:\n",
    "\n",
    "### What if we knew that movie_lengths was sorted? Could we save some space and/or time?\n",
    "If we know the array is sorted, then finding complement gets even easier. For finding a given complement, you can walk through the list, and instead of adding the complement to a set, simply binary search for it. This shaves our O(n) space complexity down to O(1), but it does bring the worst case time complexity to O(nlogn). It's hard to get rid of this entirely, but there are a couple optimizations I've considered that can help in the average case.\n",
    "\n",
    "1. If you have have a 40 minute movie on a 120 minute flight, you do binary search for 80 (40's complement). If you don't find it, you know to move on to the next value. But what if your movies look something like this: `[5, 25, 40, 90, 110]`. You've just compared 40, and your next element is 90. However, the complement of 90 is 30, which is less than 40. Since we've been processing our elements in sorted order, we know 30 isn't in the list because we would've processed it before 40. By keeping track of the smallest complement we've seen so far, we can stop our search early if we know we won't find anything in the other half. This doesn't help with big O complexity because in the worst case, no two pairs in the list are big enough to sum to your flight time, so you're constantly doing a binary search for something larger than the max value of the list. However, it could definitely be a time saver in the average case when n is really large.\n",
    "2. The max of your list will always be the last element in a sorted list. If the complement you're looking for is greater than the max of your list, you can skip the binary search. The logn time it takes for a binary search isnt' that big of a deal, but it still prevents unnecessary calls.\n",
    "3. Conversely, min of your list will be the first element. If the complement you're looking for is smaller than the min of your list, you can actually just stop looking because each successive element is only gonna get bigger and bigger.\n",
    "\n",
    "So with these ideas in mind, here's my code for the final part of the bonus question:"
   ]
  },
  {
   "cell_type": "code",
   "execution_count": 4,
   "metadata": {
    "collapsed": true
   },
   "outputs": [],
   "source": [
    "import math\n",
    "\n",
    "def movie_match_sorted(flight_length, movie_lengths):\n",
    "    min_length = movie_lengths[0]\n",
    "    max_length = movie_lengths[-1]\n",
    "    min_complement = math.inf\n",
    "    for movie_length in movie_lengths:\n",
    "        complement = flight_length - movie_length\n",
    "        if movie_length > min_complement or complement < min_length:\n",
    "            return False\n",
    "        complement_in_list = False if complement > max_length else binary_search(movie_lengths, complement)\n",
    "        if complement_in_list:\n",
    "            return True\n",
    "        \n",
    "    return False\n",
    "\n",
    "def binary_search(sorted_list, el):\n",
    "    start = 0\n",
    "    end = len(sorted_list)\n",
    "    while start <= end:\n",
    "        middle = (start + end) // 2\n",
    "        if sorted_list[middle] < el:\n",
    "            start = middle + 1\n",
    "        elif sorted_list[middle] > el:\n",
    "            end = middle - 1\n",
    "        else:\n",
    "            return True    "
   ]
  },
  {
   "cell_type": "markdown",
   "metadata": {},
   "source": [
    "# Tests\n",
    "Finally, the time has come for some tests! The testing below isn't the most beautiful ever, but it works enough to check my sanity."
   ]
  },
  {
   "cell_type": "code",
   "execution_count": 5,
   "metadata": {},
   "outputs": [
    {
     "name": "stdout",
     "output_type": "stream",
     "text": [
      "Testing: (100, [15, 25, 30, 60, 90])\n",
      "   These should have the same result\n",
      "      False\n",
      "      False\n",
      "   These can have different answers.\n",
      "     With margin of error: True\n",
      "     With more than 2 movies: True\n",
      "\n",
      "Testing: (100, [10, 25, 30, 60, 80])\n",
      "   These should have the same result\n",
      "      False\n",
      "      False\n",
      "   These can have different answers.\n",
      "     With margin of error: True\n",
      "     With more than 2 movies: False\n",
      "\n",
      "Testing: (100, [25, 25, 25, 25])\n",
      "   These should have the same result\n",
      "      False\n",
      "      False\n",
      "   These can have different answers.\n",
      "     With margin of error: False\n",
      "     With more than 2 movies: True\n",
      "\n",
      "Testing: (100, [25, 25, 30])\n",
      "   These should have the same result\n",
      "      False\n",
      "      False\n",
      "   These can have different answers.\n",
      "     With margin of error: False\n",
      "     With more than 2 movies: False\n",
      "\n",
      "Testing: (100, [10, 20, 30])\n",
      "   These should have the same result\n",
      "      False\n",
      "      False\n",
      "   These can have different answers.\n",
      "     With margin of error: False\n",
      "     With more than 2 movies: False\n",
      "\n"
     ]
    }
   ],
   "source": [
    "tests = [(100, [15, 25, 30, 60, 90]), (100, [10, 25, 30, 60, 80]), (100, [25, 25, 25, 25]), (100, [25, 25, 30]), \\\n",
    "        (100, [10, 20, 30])]\n",
    "\n",
    "for test in tests:\n",
    "    print(\"Testing:\", test)\n",
    "    \n",
    "    print(\"   These should have the same result\")\n",
    "    print(\"     \", movie_match(*test))\n",
    "    print(\"     \", movie_match_sorted(*test))\n",
    "    print(\"   These can have different answers.\")\n",
    "    print(\"     With margin of error:\", movie_almost_match(*test, 10))\n",
    "    print(\"     With more than 2 movies:\", dynamic_movie_match(*test))\n",
    "    print('')\n"
   ]
  }
 ],
 "metadata": {
  "kernelspec": {
   "display_name": "Python 3",
   "language": "python",
   "name": "python3"
  },
  "language_info": {
   "codemirror_mode": {
    "name": "ipython",
    "version": 3
   },
   "file_extension": ".py",
   "mimetype": "text/x-python",
   "name": "python",
   "nbconvert_exporter": "python",
   "pygments_lexer": "ipython3",
   "version": "3.6.1"
  }
 },
 "nbformat": 4,
 "nbformat_minor": 2
}
