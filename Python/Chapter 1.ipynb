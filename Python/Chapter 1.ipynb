{
 "cells": [
  {
   "cell_type": "markdown",
   "metadata": {
    "collapsed": true
   },
   "source": [
    "**Is Unique:** Implement an algorithm to determine if a string has all unique characters. What if you cannot use an additional data structure?"
   ]
  },
  {
   "cell_type": "code",
   "execution_count": 28,
   "metadata": {},
   "outputs": [],
   "source": [
    "def isUnique(string):\n",
    "    bits = int(0)\n",
    "    for char in string:\n",
    "        if (bits & 1 << ord(char)) != 0:\n",
    "            return False\n",
    "        bits |= 1 << ord(char)\n",
    "    return True"
   ]
  },
  {
   "cell_type": "markdown",
   "metadata": {},
   "source": [
    "Test Cases..."
   ]
  },
  {
   "cell_type": "code",
   "execution_count": 31,
   "metadata": {
    "scrolled": false
   },
   "outputs": [
    {
     "name": "stdout",
     "output_type": "stream",
     "text": [
      "False\n",
      "True\n"
     ]
    }
   ],
   "source": [
    "print(isUnique(\"banana\"))\n",
    "print(bitUnique(\"ayx@#$\"))"
   ]
  },
  {
   "cell_type": "code",
   "execution_count": 55,
   "metadata": {},
   "outputs": [
    {
     "name": "stdout",
     "output_type": "stream",
     "text": [
      "True\n"
     ]
    }
   ],
   "source": [
    "def arePermutations(first, second):\n",
    "    letters = dict()\n",
    "    for char in first:\n",
    "        if char not in letters:\n",
    "            letters[char] = 0\n",
    "        letters[char] += 1\n",
    "    for char in second:\n",
    "        if char not in letters:\n",
    "            return False\n",
    "        letters[char] -= 1\n",
    "        if letters[char] == 0:\n",
    "            letters.pop(char)\n",
    "    return not letters\n",
    "\n",
    "print(arePermutations(\"banana\", \"ananab\"))"
   ]
  },
  {
   "cell_type": "code",
   "execution_count": 59,
   "metadata": {},
   "outputs": [
    {
     "name": "stdout",
     "output_type": "stream",
     "text": [
      "True\n",
      "True\n"
     ]
    }
   ],
   "source": [
    "def isPalindrome(pal):\n",
    "    bitmask = int(0)\n",
    "    for char in pal.lower():\n",
    "        if (char != ' '):\n",
    "            bitmask ^= 1 << ord(char)\n",
    "    return bitmask == 0 or ((bitmask - 1) & bitmask) == 0\n",
    "\n",
    "print(isPalindrome(\"Tact coa\"))\n",
    "print(isPalindrome(\"Tactcoa\"))\n"
   ]
  }
 ],
 "metadata": {
  "kernelspec": {
   "display_name": "Python 3",
   "language": "python",
   "name": "python3"
  },
  "language_info": {
   "codemirror_mode": {
    "name": "ipython",
    "version": 3
   },
   "file_extension": ".py",
   "mimetype": "text/x-python",
   "name": "python",
   "nbconvert_exporter": "python",
   "pygments_lexer": "ipython3",
   "version": "3.6.1"
  }
 },
 "nbformat": 4,
 "nbformat_minor": 2
}
