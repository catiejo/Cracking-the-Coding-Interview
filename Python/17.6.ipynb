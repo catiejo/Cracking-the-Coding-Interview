{
 "cells": [
  {
   "cell_type": "markdown",
   "metadata": {},
   "source": [
    "# Count of 2s\n",
    "Write a method to count the number of 2s between 0 and n.\n",
    "\n",
    "For example, 0 to 5 has one (2), but 23 has seven (2, 12, 20, 21, 23, and two 2s in 22)."
   ]
  },
  {
   "cell_type": "markdown",
   "metadata": {},
   "source": [
    "### My Solution\n",
    "\n",
    "#### Brute Force\n",
    "The first solution I came up with was a brute force solution. I created an array of every number between 0 and n, and used a radix-style modulo sort to count the number of twos. For example:\n",
    "\n",
    "`[0, 1, 2, 3, 4, 5, 6, 7, 8, 9, 10, 11, 12, 13, 14, 15, 16, 17, 18, 19, 20, 21, 22, 23]`\n",
    "\n",
    "Pass through the array log(n) times (aka the number of digits in n). If the number % 10 is 2, increment count. Then divide by 10 (floored) and move to the next item in the array.\n",
    "\n",
    "*After the first pass:*\n",
    "`[0, 0, 0, 0, 0, 0, 0, 0, 0, 0, 1, 1, 1, 1, 1, 1, 1, 1, 1, 1, 2, 2, 2, 2]`\n",
    "count = 3 (from 2, 12, and 22)\n",
    "\n",
    "*After the second pass:*\n",
    "`[0, 0, 0, 0, 0, 0, 0, 0, 0, 0, 0, 0, 0, 0, 0, 0, 0, 0, 0, 0, 0, 0, 0, 0]`\n",
    "count = 7 (from 20, 21, 22, 23)\n",
    "\n",
    "While this is fine to suggest as a starting point, notice that this takes O(nlogn) time and O(n) space. Especially when n gets really large, this could be a pretty major problem.\n",
    "\n",
    "Optimizations for this problem would be to start at 2 instead of 0 (since there aren't any 2s in 0 and 1), and to remove elements from the array once they equal zero so you don't go through all the elements every time. Especially if n is a large number, there would end up being a loooot of zero elements. To ameliorate the space complexity, you could also just have a function `findTwosInNumber(num)`, so you don't need to keep an array. This brings the time complexity to O(1) and space complexity down to O(1), so it's pretty significant.\n",
    "\n",
    "### Mathemagical\n",
    "A better way to solve this problem is to look for patterns. The insight that helped me solve this problem? What if I wanted to return the number of times a number between 0 and n *ended* in 2? Well, you'd just divide by 10 (floored) with the special case of when the last digit of n is >= 2, in which case you add one more 2 to the count. How about all numbers with a 2 in the 10's place? Similarly, this is n / 100 (floored), but again watching out for the special case where the second-to-last digit of n is >= 2. I realized this approach could be computed by looking at each digit in n, which is O(logn) time! Soo much better than O(n).\n",
    "\n",
    "1. For a digit, i, that digit will be 2 10^i times the larger part of the number. E.g. 3000 will have a 2 in the 100s place 100 * 3 times. Why? Because of 200-299 that happens every thousand (3 in the case of 3000) times.\n",
    "2. For the special case where that digit in n is > 2, you need to add one more round of 10^i. If the value was 3400 instead of 3000, there would be 200-299, 1200-1299, 2200-2299, AND 3200-3299.\n",
    "3. For the special case where the digit in n == 2, you need to take the normal amount, + any remainder, + 1. So if the number was 3256, the remainder would be 56, so you'd need to add 57 (for 3200 to 3256) to your answer.\n",
    "\n",
    "The beauty of this solution is it takes O(logn) time and O(1) space!"
   ]
  },
  {
   "cell_type": "code",
   "execution_count": 1,
   "metadata": {},
   "outputs": [],
   "source": [
    "import math\n",
    "\n",
    "def countTwos(n):\n",
    "    count = 0\n",
    "    if n <= 1:\n",
    "        return 0\n",
    "    numDigits = math.ceil(math.log(n, 10))\n",
    "    for power in range(numDigits):\n",
    "        curPower = 10 ** power\n",
    "        higherPower = 10 ** (power + 1)\n",
    "        count += math.floor(n / higherPower) * curPower\n",
    "        remainder = (n % higherPower)\n",
    "        if remainder >= (3 * curPower):\n",
    "            count += curPower\n",
    "        elif remainder >= (2 * curPower):\n",
    "            count += (n % curPower) + 1\n",
    "    return count"
   ]
  },
  {
   "cell_type": "markdown",
   "metadata": {},
   "source": [
    "### CTCI Solution\n",
    "I ended up having the optimal solution listed in the book, but the way they formatted the code was a bit more readable, so I've also included it here!"
   ]
  },
  {
   "cell_type": "code",
   "execution_count": 2,
   "metadata": {},
   "outputs": [],
   "source": [
    "import math\n",
    "\n",
    "def countTwosFromBook(n):\n",
    "    count = 0\n",
    "    numDigits = len(str(n))\n",
    "    for digit in range(numDigits):\n",
    "        count += countTwosAtDigit(n, digit)\n",
    "    return count\n",
    "\n",
    "def countTwosAtDigit(n, digit):\n",
    "    power = 10 ** digit\n",
    "    higherPower = 10 ** (digit + 1)\n",
    "    \n",
    "    roundDown = int((n - (n % higherPower)) / 10)\n",
    "    remainder = n % power\n",
    "    \n",
    "    digitValue = math.floor(n / power) % 10\n",
    "    numTwosAtDigit = None\n",
    "    if digitValue < 2:\n",
    "        return  roundDown\n",
    "    elif digitValue == 2:\n",
    "        return  roundDown + remainder + 1\n",
    "    else:\n",
    "        return  roundDown + power"
   ]
  },
  {
   "cell_type": "markdown",
   "metadata": {},
   "source": [
    "### Tests\n",
    "In case you don't believe me. Even with console colors!"
   ]
  },
  {
   "cell_type": "code",
   "execution_count": 3,
   "metadata": {},
   "outputs": [
    {
     "name": "stdout",
     "output_type": "stream",
     "text": [
      "\u001b[92m Sucess! There are 0 twos in 0 \u001b[0m\n",
      "\u001b[92m Sucess! There are 1 twos in 3 \u001b[0m\n",
      "\u001b[92m Sucess! There are 1 twos in 6 \u001b[0m\n",
      "\u001b[92m Sucess! There are 1 twos in 9 \u001b[0m\n",
      "\u001b[92m Sucess! There are 2 twos in 12 \u001b[0m\n",
      "\u001b[92m Sucess! There are 2 twos in 15 \u001b[0m\n",
      "\u001b[92m Sucess! There are 2 twos in 18 \u001b[0m\n",
      "\u001b[92m Sucess! There are 4 twos in 21 \u001b[0m\n",
      "\u001b[92m Sucess! There are 8 twos in 24 \u001b[0m\n",
      "\u001b[92m Sucess! There are 11 twos in 27 \u001b[0m\n",
      "\u001b[92m Sucess! There are 13 twos in 30 \u001b[0m\n",
      "\u001b[92m Sucess! There are 14 twos in 33 \u001b[0m\n",
      "\u001b[92m Sucess! There are 14 twos in 36 \u001b[0m\n",
      "\u001b[92m Sucess! There are 14 twos in 39 \u001b[0m\n",
      "\u001b[92m Sucess! There are 15 twos in 42 \u001b[0m\n",
      "\u001b[92m Sucess! There are 15 twos in 45 \u001b[0m\n",
      "\u001b[92m Sucess! There are 15 twos in 48 \u001b[0m\n",
      "\u001b[92m Sucess! There are 15 twos in 51 \u001b[0m\n",
      "\u001b[92m Sucess! There are 16 twos in 54 \u001b[0m\n",
      "\u001b[92m Sucess! There are 16 twos in 57 \u001b[0m\n",
      "\u001b[92m Sucess! There are 16 twos in 60 \u001b[0m\n",
      "\u001b[92m Sucess! There are 17 twos in 63 \u001b[0m\n",
      "\u001b[92m Sucess! There are 17 twos in 66 \u001b[0m\n",
      "\u001b[92m Sucess! There are 17 twos in 69 \u001b[0m\n",
      "\u001b[92m Sucess! There are 18 twos in 72 \u001b[0m\n",
      "\u001b[92m Sucess! There are 18 twos in 75 \u001b[0m\n",
      "\u001b[92m Sucess! There are 18 twos in 78 \u001b[0m\n",
      "\u001b[92m Sucess! There are 18 twos in 81 \u001b[0m\n",
      "\u001b[92m Sucess! There are 19 twos in 84 \u001b[0m\n",
      "\u001b[92m Sucess! There are 19 twos in 87 \u001b[0m\n",
      "\u001b[92m Sucess! There are 19 twos in 90 \u001b[0m\n",
      "\u001b[92m Sucess! There are 20 twos in 93 \u001b[0m\n",
      "\u001b[92m Sucess! There are 20 twos in 96 \u001b[0m\n",
      "\u001b[92m Sucess! There are 20 twos in 99 \u001b[0m\n"
     ]
    }
   ],
   "source": [
    "import math\n",
    "\n",
    "class color:\n",
    "    HEADER = '\\033[95m'\n",
    "    OKBLUE = '\\033[94m'\n",
    "    SUCCESS = '\\033[92m'\n",
    "    WARNING = '\\033[93m'\n",
    "    FAIL = '\\033[91m'\n",
    "    ENDC = '\\033[0m'\n",
    "    BOLD = '\\033[1m'\n",
    "    UNDERLINE = '\\033[4m'\n",
    "\n",
    "def testCountTwos():\n",
    "    for i in range(0, 100, 3):\n",
    "        twosFromMe = countTwos(i)\n",
    "        twosFromBook = countTwosFromBook(i)\n",
    "        if (twosFromMe == twosFromBook):\n",
    "            print (color.SUCCESS, \"Sucess! There are {} twos in {}\".format(twosFromMe, i), color.ENDC)\n",
    "        else:\n",
    "            print (color.FAIL, \"OOPS\", color.ENDC)\n",
    "            print (color.FAIL, \"--There are {} twos in {} according to countTwos\".format(countTwos(i), i), color.ENDC)\n",
    "            print (color.FAIL, \"--There are {} twos in {} according to countTwosFromBook\".format(countTwosFromBook(i), i), color.ENDC)\n",
    "        \n",
    "testCountTwos()"
   ]
  }
 ],
 "metadata": {
  "kernelspec": {
   "display_name": "Python 3",
   "language": "python",
   "name": "python3"
  },
  "language_info": {
   "codemirror_mode": {
    "name": "ipython",
    "version": 3
   },
   "file_extension": ".py",
   "mimetype": "text/x-python",
   "name": "python",
   "nbconvert_exporter": "python",
   "pygments_lexer": "ipython3",
   "version": "3.6.1"
  }
 },
 "nbformat": 4,
 "nbformat_minor": 2
}
