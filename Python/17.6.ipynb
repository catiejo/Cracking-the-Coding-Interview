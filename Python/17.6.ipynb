{
 "cells": [
  {
   "cell_type": "code",
   "execution_count": null,
   "metadata": {
    "collapsed": true
   },
   "outputs": [],
   "source": [
    "import math\n",
    "\n",
    "def countTwos(n):\n",
    "    count = 0\n",
    "    if n <= 0:\n",
    "        return 0\n",
    "    numDigits = math.ceil(math.log(n, 10))\n",
    "    for power in range(numDigits):\n",
    "        curPower = 10 ** power\n",
    "        higherPower = 10 ** (power + 1)\n",
    "        count += math.floor(n / higherPower) * curPower\n",
    "        remainder = (n % higherPower)\n",
    "        if remainder >= (3 * curPower):\n",
    "            count += curPower\n",
    "        elif remainder >= (2 * curPower):\n",
    "            count += (n % curPower) + 1\n",
    "    return count\n",
    "\n",
    "def testCountTwos():\n",
    "    for i in range(0, 100, 5):\n",
    "        print (\"There are {} twos in {}\".format(countTwos(i), i))\n",
    "        \n",
    "testCountTwos()"
   ]
  }
 ],
 "metadata": {
  "kernelspec": {
   "display_name": "Python 3",
   "language": "python",
   "name": "python3"
  },
  "language_info": {
   "codemirror_mode": {
    "name": "ipython",
    "version": 3
   },
   "file_extension": ".py",
   "mimetype": "text/x-python",
   "name": "python",
   "nbconvert_exporter": "python",
   "pygments_lexer": "ipython3",
   "version": "3.6.1"
  }
 },
 "nbformat": 4,
 "nbformat_minor": 2
}
