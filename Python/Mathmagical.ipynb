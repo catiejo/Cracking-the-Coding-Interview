{
 "cells": [
  {
   "cell_type": "markdown",
   "metadata": {},
   "source": [
    "# Mathmagical\n",
    "## *Useful Math for Coding Interviews*\n",
    "\n",
    "This document seeks to be a concise, simple explanation of some of the math you might come across in coding interviews.\n",
    "\n",
    "### Sum of numbers 1 to n\n",
    "The simplest way to do this is to just take the sum of every number between 1 and n (inclusive). It's readable, but it's also really inefficient."
   ]
  },
  {
   "cell_type": "code",
   "execution_count": 1,
   "metadata": {},
   "outputs": [
    {
     "name": "stdout",
     "output_type": "stream",
     "text": [
      "Sum 1 to 5: 15\n",
      "Sum 1 to 10: 55\n"
     ]
    }
   ],
   "source": [
    "# The naive solution...O(n) time. Yuck.\n",
    "def slow_sum_to_n(n):\n",
    "    sum = 0;\n",
    "    for i in range(1, n + 1):\n",
    "        sum += i\n",
    "    return sum\n",
    "\n",
    "print (\"Sum 1 to 5:\", slow_sum_to_n(5))\n",
    "print (\"Sum 1 to 10:\", slow_sum_to_n(10))"
   ]
  },
  {
   "cell_type": "markdown",
   "metadata": {},
   "source": [
    "If you think about it, there's a much better way to do this. Consider that these lists have the same sum:\n",
    ">`[1, 2, 3, 4, 5]`\n",
    "\n",
    ">`[3, 3, 3, 3, 3]`\n",
    "\n",
    "**TLDR; the sum is n * the average value of the list, but it's not as simple as just dividing by 2.** It's tempting to just write math.ceil(x / 2), but that only works if n is odd.\n",
    "\n",
    "If you have an even n (e.g. `[1, 2, 3, 4]`), the average is 2.5. This is because you take `n * avg_of_n`, where `avg_of_n = (n + 1) / 2`. \n",
    "\n",
    "Conveniently, this also works for an odd n (`[1, 2, 3, 4, 5]`)... `avg_of_n = (n + 1) / 2`. (which is the same as math.ceil() since n is odd). So in this case, the average is 3."
   ]
  },
  {
   "cell_type": "code",
   "execution_count": 2,
   "metadata": {},
   "outputs": [
    {
     "name": "stdout",
     "output_type": "stream",
     "text": [
      "Sum 1 to 5: 15\n",
      "Sum 1 to 10: 55\n"
     ]
    }
   ],
   "source": [
    "# The one-liner that runs in constant time (O(1))!\n",
    "sum_to_n = lambda x: x * (x + 1) // 2\n",
    "\n",
    "print (\"Sum 1 to 5:\", sum_to_n(5))\n",
    "print (\"Sum 1 to 10:\", sum_to_n(10))"
   ]
  },
  {
   "cell_type": "markdown",
   "metadata": {},
   "source": [
    "### Sum of Powers of 2\n",
    "I love this one. If you want the sum of 2^0 to 2^n, you can do it without all that nasty loop business. To understand why, just look how these additions look in binary:\n",
    "\n",
    "`\n",
    "| n  | Binary |\n",
    "|----|--------|\n",
    "| 0  |  0001  |\n",
    "| 1  |  0010  |\n",
    "| 2  |  0100  |\n",
    "| 3  |  1000  |\n",
    "`\n",
    "\n",
    "**The sum is 1111**"
   ]
  },
  {
   "cell_type": "code",
   "execution_count": 3,
   "metadata": {},
   "outputs": [
    {
     "name": "stdout",
     "output_type": "stream",
     "text": [
      "1\n",
      "3\n",
      "7\n",
      "15\n",
      "31\n",
      "63\n"
     ]
    }
   ],
   "source": [
    "def sum_pow_two(n):\n",
    "    return 2 ** (n + 1) - 1\n",
    "\n",
    "print(sum_pow_two(0))\n",
    "print(sum_pow_two(1))\n",
    "print(sum_pow_two(2))\n",
    "print(sum_pow_two(3))\n",
    "print(sum_pow_two(4))\n",
    "print(sum_pow_two(5))"
   ]
  },
  {
   "cell_type": "markdown",
   "metadata": {},
   "source": [
    "### Number of Permutations\n",
    "Say you're getting married and you're trying to plan out the seating arrangements. Because of the wonders of family drama and politics, it matters who sits next to who (Aunt Bertha can sit at the same table as Uncle Jim, but not right next to each other because Jim's allergic to Bertha's perfume). \n",
    "\n",
    "This is a perfect example for permutations, because in a permutation, the order matters. ABC != ACB.\n",
    "\n",
    "Say each table holds 5 people, and you want to know all the possible ways your 50 guests could be seated at one of the tables. How many different ways can you do that?\n",
    "\n",
    "For the first spot at your table, there are 50 possible guests. But for the second spot, you can't seat the same guest twice, so there are only 49 possibilities. Then 48, 47, and 46. Then whoops...you're out of chairs!"
   ]
  },
  {
   "cell_type": "code",
   "execution_count": 4,
   "metadata": {},
   "outputs": [
    {
     "name": "stdout",
     "output_type": "stream",
     "text": [
      "210\n",
      "254251200\n",
      "720\n"
     ]
    }
   ],
   "source": [
    "import math\n",
    "\n",
    "def guest_permuations(table_size, guest_size):\n",
    "    return math.factorial(guest_size) // math.factorial(guest_size - table_size)\n",
    "\n",
    "# Generalized using mathematic notation P(n, k)\n",
    "def P(n, k):\n",
    "    # n! / (n-k)! isolates k * (k+1) * (k+2) * ... * n\n",
    "    return math.factorial(n) // math.factorial(n - k)\n",
    "\n",
    "print(P(7, 3))\n",
    "print(P(50, 5))\n",
    "print(P(6, 6)) # 0! = 1"
   ]
  },
  {
   "cell_type": "markdown",
   "metadata": {},
   "source": [
    "#### Coding Note\n",
    "Factorials are really awful in terms of time complexity: O(n) where n is the number. Especially when doing `n!/(n-k)!`, the entirety of the second call cancels out most of the first call. So while I wrote the above functions according to their mathematical notation, this would be a much more efficient solution:"
   ]
  },
  {
   "cell_type": "code",
   "execution_count": 5,
   "metadata": {
    "collapsed": true
   },
   "outputs": [],
   "source": [
    "# This runs in O(k) time.\n",
    "def optimized_P(n, k):\n",
    "    if (n < k):\n",
    "        return 0;\n",
    "    elif (k == 0):\n",
    "        return 1 # Only option is empty set\n",
    "    permutations = 1;\n",
    "    for num in range(n, n - k, -1):\n",
    "        permutations *= num\n",
    "    return permutations"
   ]
  },
  {
   "cell_type": "markdown",
   "metadata": {},
   "source": [
    "### Number of Combinations\n",
    "Now let's pretend you live in a perfectly harmonious family where there's no drama. Anyone can sit next to anyone...magical. But that means that P(50, 5) is waaaay too many options! ABCDE == ABDEC == EDCBA, so we can use this to significantly reduce our choices.\n",
    "\n",
    "Combinations are permutations where the order doesn't matter, denoted by C(n, k). To get a feel for how to solve our wedding problem, let's first look at a simpler example.\n",
    "\n",
    "You have 3 cups and two balls. If you care which ball is in which cup, there are 6 possible combinations:\n",
    "\n",
    "`\n",
    "|       |    Balls (A, B, C)    |\n",
    "|-------|---|---|---|---|---|---|\n",
    "| Cup 1 | A | B | A | C | B | C |\n",
    "| Cup 2 | B | A | C | A | C | B |\n",
    "`\n",
    "\n",
    "\n",
    "However, if we don't care which cup a ball is in, and only which balls are in cups, the number of options dwindles.\n",
    "\n",
    "`\n",
    "|     | Balls (A, B, C) |\n",
    "|-----|-----|-----|-----|\n",
    "| Cup |  A  |  A  |  B  |\n",
    "| Cup |  B  |  C  |  C  |\n",
    "`\n",
    "\n",
    "#### How I think About it\n",
    "If you have n items and you want to choose k, the first step is to compute P(n, k). However, this is the number of unique combinations of k elements of n.\n",
    "\n",
    "Your sublist is k elements long. That means for any given list, there are k! permutations of it. Therefore, if you take the number of permutations (P(n, k)) and divide it by the number of ways k can be permutated, you get the number of combinations!\n",
    "\n",
    "One more example...10 choose 3. There are 720 3-length permutations (`10 * 9 * 8`) of those 10 elements. Let's say the elements are letters: `[a, b, c, d, e, f, g, h, i, j]`\n",
    "\n",
    "Of those 720 permutations, here are 6 of them:\n",
    "* `[a, b, c]`\n",
    "* `[a, c, b]`\n",
    "* `[b, c, a]`\n",
    "* `[b, a, c]`\n",
    "* `[c, b, a]`\n",
    "* `[c, a, b]`\n",
    "\n",
    "Since we want combinations, all 6 (3! *ahem ahem*) of these are treated as the same permutation. This means for ever 6 permutations, we only care about one of them. Therefore the number of combinations is P(n, k) // k!...Or, written on its own: `n!/(n-k)!k!`"
   ]
  },
  {
   "cell_type": "code",
   "execution_count": 6,
   "metadata": {},
   "outputs": [
    {
     "name": "stdout",
     "output_type": "stream",
     "text": [
      "120\n"
     ]
    }
   ],
   "source": [
    "def C(n, k):\n",
    "    numerator = math.factorial(n)\n",
    "    denominator = math.factorial(n - k) * math.factorial(k)\n",
    "    return numerator // denominator\n",
    "\n",
    "# Optimized:\n",
    "def optimized_C(n, k):\n",
    "    return optimized_P(n, k) // math.factorial(k)\n",
    "\n",
    "print(C(10, 3))"
   ]
  },
  {
   "cell_type": "markdown",
   "metadata": {},
   "source": [
    "### Basic Probability\n",
    "Ok, so I found a quarter on the sidewalk. Let's say I decide to start doing probability experiments with it. In my mind, there are three different types of probability I can measure:\n",
    "* The probability of getting a specific order (e.g heads, tails, heads)\n",
    "* The probability of getting exactly n heads (e.g. 2 heads out of 5 flips)\n",
    "* The probability of getting *at least* n heads (e.g. 2 or more heads out of 5 flips)\n",
    "\n",
    "In probability, you have an event with k possible outcomes. If you repeat that event n times, you will have k^n total possible outcomes. For example, flipping a coin 3 times could result in hhh, hht, hth, thh, htt, tht, tth, or ttt. This is 8 possible outcomes of the experiment, which is conveniently 2^3 (heads or tails 3 times).\n",
    "\n",
    "If you want to know the probability of an event happening exactly in the order you want, your answer is 1/k^n because, of all the outcomes possible, only one meets your criteria.\n",
    "\n",
    "If you don't care as much about the order of events, things get more interesting.\n",
    "\n",
    "#### Probability of exactly 3 heads out of 5 flips.\n",
    "You have a list, `[heads, heads, heads, tails, tails]`. The chances of getting exactly this outcome is 1/2^5, but if you don't care the order of the events, your chances are actually much higher. It may be tempting to think \"Hey! I can just compute the number of permutations of this list, and divide it by my total number of outcomes to get the probability.\", but this isn't quite the case. If you number the heads and tails, you start to see why.\n",
    ">For our purposes, `[heads1, heads2, heads3, tails1, tails2] == [heads1, heads2, heads3, tails2, tails1]`\n",
    "\n",
    "Hmm. Well, another way to think about it is heads1 can happen any of the 5 times you flip the coin, and heads2 can happen any time **except** when heads1 also happens. So instead of P(5, 5) = 120, you get P(5, 3) = 60 possible outcomes. This gets us closer because we're ignoring the tails, but it still assumes heads1 and heads2 are separate events and that we care about their order. Intuitively, you can also tell this is wrong because we only have 2^5 possible outcomes, so 60/32 gives us almost a 200% chance of our desired outcome...\n",
    ">`[heads1, heads2, heads3, tails, tails] == [heads3, heads2, heads1, tails, tails]`\n",
    "\n",
    "Since we don't care about the order...combinations seem like a great candidate. This would divide our 60 possible outcomes by 3! (the number of times we want heads), giving us 60/6 = 10. As our final step, we simply divide by the total number of outcomes to get our probability."
   ]
  },
  {
   "cell_type": "code",
   "execution_count": 7,
   "metadata": {},
   "outputs": [
    {
     "name": "stdout",
     "output_type": "stream",
     "text": [
      "0.03125\n",
      "0.15625\n",
      "0.3125\n",
      "0.3125\n",
      "0.15625\n",
      "0.03125\n"
     ]
    }
   ],
   "source": [
    "# Note that this only works if a given event only has two possible outcomes (heads, tails). \n",
    "# this wouldn't work for a dice, for example.\n",
    "def probability_of_n_heads(heads, flips):\n",
    "    desired_outcomes = optimized_C(flips, heads)\n",
    "    total_outcomes = 2**flips\n",
    "    percent = (desired_outcomes/total_outcomes) * 100\n",
    "    return round(desired_outcomes/total_outcomes, 5)\n",
    "\n",
    "print(probability_of_n_heads(0, 5))\n",
    "print(probability_of_n_heads(1, 5) )\n",
    "print(probability_of_n_heads(2, 5))\n",
    "print(probability_of_n_heads(3, 5))\n",
    "print(probability_of_n_heads(4, 5))\n",
    "print(probability_of_n_heads(5, 5))"
   ]
  },
  {
   "cell_type": "markdown",
   "metadata": {},
   "source": [
    "Woohoo! Just to really hit these percents home, this is what the outcomes look like:\n",
    "\n",
    "`\n",
    "Coin        1    2    3    4    5\n",
    "outcome 1   h    h    h    h    h  (5 h)\n",
    "        2   h    h    h    h    t  (4 h)\n",
    "        3   h    h    h    t    h\n",
    "        4   h    h    t    h    h\n",
    "        5   h    t    h    h    h\n",
    "        6   t    h    h    h    h\n",
    "        7   h    h    h    t    t  (3 h)\n",
    "        8   h    h    t    h    t\n",
    "        9   h    t    h    h    t\n",
    "       10   t    h    h    h    t\n",
    "       11   h    h    t    t    h\n",
    "       12   h    t    h    t    h\n",
    "       13   t    h    h    t    h\n",
    "       14   h    t    t    h    h\n",
    "       15   t    h    t    h    h\n",
    "       16   t    t    h    h    h\n",
    "       17   t    t    t    h    h  (2 h)\n",
    "       18   t    t    h    t    h\n",
    "       19   t    h    t    t    h\n",
    "       20   h    t    t    t    h\n",
    "       21   t    t    h    h    t\n",
    "       22   t    h    t    h    t\n",
    "       23   h    t    t    h    t\n",
    "       24   t    h    h    t    t\n",
    "       25   h    t    h    t    t\n",
    "       26   h    h    t    t    t \n",
    "       27   t    t    t    t    h  (1 h)\n",
    "       28   t    t    t    h    t\n",
    "       29   t    t    h    t    t\n",
    "       30   t    h    t    t    t\n",
    "       31   h    t    t    t    t\n",
    "       32   t    t    t    t    t  (0 h)\n",
    "`\n",
    "\n",
    "#### Probability of *at least* 1 heads.\n",
    "Generally, computing *at least* some amount is much harder, but there's a very convenient trick when you're looking for at least one: The probability of getting at least 1 heads is the same as 100% minus the probability of getting all heads. That's much easier to calculate, no? Here's a nice little one-liner."
   ]
  },
  {
   "cell_type": "code",
   "execution_count": 8,
   "metadata": {},
   "outputs": [
    {
     "name": "stdout",
     "output_type": "stream",
     "text": [
      "0\n",
      "0.5\n",
      "0.75\n",
      "0.875\n",
      "0.9375\n",
      "0.9990234375\n"
     ]
    }
   ],
   "source": [
    "def at_least_one_heads(flips):\n",
    "    return 1 - 2**(-flips)\n",
    "\n",
    "print(at_least_one_heads(0))\n",
    "print(at_least_one_heads(1))\n",
    "print(at_least_one_heads(2))\n",
    "print(at_least_one_heads(3))\n",
    "print(at_least_one_heads(4))\n",
    "print(at_least_one_heads(10))"
   ]
  },
  {
   "cell_type": "markdown",
   "metadata": {},
   "source": [
    "#### Probability of at least n\n",
    "So this gets a little on the trickier side, and honestly probably not anything that will come up in a code review. But for a simple solution, it's useful to remember that you can either add the probabilities from n to the total number of events, **or** you can subtract the probabilities from 0 to n from 100%. Then just compute the smaller one. Kinda neat."
   ]
  },
  {
   "cell_type": "code",
   "execution_count": 9,
   "metadata": {},
   "outputs": [
    {
     "name": "stdout",
     "output_type": "stream",
     "text": [
      "1.0\n",
      "0.99902\n",
      "0.98925\n",
      "0.9453\n",
      "0.82811\n",
      "0.62303\n",
      "0.37697\n",
      "0.17189\n",
      "0.0547\n",
      "0.01075\n",
      "0.00098\n"
     ]
    }
   ],
   "source": [
    "def at_least_n(n, flips):\n",
    "    if n > flips / 2:\n",
    "        return n_to_flips(n, flips)\n",
    "    else:\n",
    "        return zero_to_n(n, flips)\n",
    "    \n",
    "def n_to_flips(n, flips):\n",
    "    total = 0;\n",
    "    for i in range(n, flips + 1):\n",
    "        total += probability_of_n_heads(i, flips)\n",
    "    return round(total, 5)\n",
    "\n",
    "def zero_to_n(n, flips):\n",
    "    total = 0;\n",
    "    for i in range(0, n):\n",
    "        total += probability_of_n_heads(i, flips)\n",
    "    return round(1.0 - total, 5)\n",
    "\n",
    "print(at_least_n(0, 10))\n",
    "print(at_least_n(1, 10))\n",
    "print(at_least_n(2, 10))\n",
    "print(at_least_n(3, 10))\n",
    "print(at_least_n(4, 10))\n",
    "print(at_least_n(5, 10))\n",
    "print(at_least_n(6, 10))\n",
    "print(at_least_n(7, 10))\n",
    "print(at_least_n(8, 10))\n",
    "print(at_least_n(9, 10))\n",
    "print(at_least_n(10, 10))   "
   ]
  },
  {
   "cell_type": "markdown",
   "metadata": {},
   "source": [
    "### Proof By Induction\n",
    "This is a great way to prove your recursive function works. Conversely, if you can prove something by induction, that means there's a simple way to write it recurively (whether or not it's efficient is another matter).\n",
    "\n",
    "There are three steps to prove something by induction... \n",
    "1. Prove the base case (P(b))\n",
    "2. Assume your solution works for some value \"n\" (P(n))\n",
    "3. Prove you can reach P(n+1) from P(n)\n",
    "\n",
    "#### Example.\n",
    "Prove that an n-element set contains 2^n subsets.\n",
    "\n",
    ">##### Prove P(b).\n",
    ">The base case is the empty set ({}). There's only one subset of the empty set, which is the empty set. This holds true because 2^0 = 1.\n",
    "\n",
    ">##### Assume P(n)\n",
    ">If we have an n element set, we assume there are 2^n subsets of it.\n",
    "\n",
    ">##### Prove P(n + 1)\n",
    ">This is the bread and butter of the problem. So let's say we have our 2^n subsets, then we add the n+1th element to the set. This would be all the subsets of n, plus all those subsets with the addition of n+1. For example:\n",
    "\n",
    ">All possible subsets of `[a, b, c]`...\n",
    ">* `[a, b, c]`\n",
    ">* `[a, b]`\n",
    ">* `[a, c]`\n",
    ">* `[b, c]`\n",
    ">* `[a]`\n",
    ">* `[b]`\n",
    ">* `[c]`\n",
    ">* `[]`\n",
    "\n",
    ">All possible subsets of `[a, b, c, d]` would be all of those in `[a, b, c]`, plus...\n",
    ">* `[a, b, c, d]`\n",
    ">* `[a, b, d]`\n",
    ">* `[a, c, d]`\n",
    ">* `[b, c, d]`\n",
    ">* `[a, d]`\n",
    ">* `[b, d]`\n",
    ">* `[c, d]`\n",
    ">* `[d]`\n",
    "\n",
    "Therefore, if n had 2^n subsets, n+1 has 2 x 2^n, which is conveniently... 2^(n+1)\n",
    "\n",
    "*QED.*"
   ]
  }
 ],
 "metadata": {
  "kernelspec": {
   "display_name": "Python 3",
   "language": "python",
   "name": "python3"
  },
  "language_info": {
   "codemirror_mode": {
    "name": "ipython",
    "version": 3
   },
   "file_extension": ".py",
   "mimetype": "text/x-python",
   "name": "python",
   "nbconvert_exporter": "python",
   "pygments_lexer": "ipython3",
   "version": "3.6.1"
  }
 },
 "nbformat": 4,
 "nbformat_minor": 2
}
