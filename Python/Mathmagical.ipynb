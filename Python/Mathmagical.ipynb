{
 "cells": [
  {
   "cell_type": "markdown",
   "metadata": {},
   "source": [
    "# Mathmagical\n",
    "## *Useful Math for Coding Interviews*\n",
    "\n",
    "This document seeks to be a concise, simple explanation of some of the math you might come across in coding interviews.\n",
    "\n",
    "### Sum of numbers 1 to n\n",
    "The simplest way to do this is to just take the sum of every number between 1 and n (inclusive). It's readable, but it's also really inefficient."
   ]
  },
  {
   "cell_type": "code",
   "execution_count": null,
   "metadata": {},
   "outputs": [],
   "source": [
    "# The naive solution...O(n) time. Yuck.\n",
    "def slow_sum_to_n(n):\n",
    "    sum = 0;\n",
    "    for i in range(1, n + 1):\n",
    "        sum += i\n",
    "    return sum\n",
    "\n",
    "print (\"Sum 1 to 5:\", slow_sum_to_n(5))\n",
    "print (\"Sum 1 to 10:\", slow_sum_to_n(10))"
   ]
  },
  {
   "cell_type": "markdown",
   "metadata": {},
   "source": [
    "If you think about it, there's a much better way to do this. Consider that these lists have the same sum:\n",
    ">`[1, 2, 3, 4, 5]`\n",
    "\n",
    ">`[3, 3, 3, 3, 3]`\n",
    "\n",
    "**TLDR; the sum is n * the average value of the list, but it's not as simple as just dividing by 2.** It's tempting to just write math.ceil(x / 2), but that only works if n is odd.\n",
    "\n",
    "If you have an even n (e.g. `[1, 2, 3, 4]`), the average is 2.5. This is because you take `n * avg_of_n`, where `avg_of_n = (n + 1) / 2`. \n",
    "\n",
    "Conveniently, this also works for an odd n (`[1, 2, 3, 4, 5]`)... `avg_of_n = (n + 1) / 2`. (which is the same as math.ceil() since n is odd). So in this case, the average is 3."
   ]
  },
  {
   "cell_type": "code",
   "execution_count": null,
   "metadata": {},
   "outputs": [],
   "source": [
    "# The one-liner that runs in constant time (O(1))!\n",
    "sum_to_n = lambda x: x * (x + 1) // 2\n",
    "\n",
    "print (\"Sum 1 to 5:\", sum_to_n(5))\n",
    "print (\"Sum 1 to 10:\", sum_to_n(10))"
   ]
  },
  {
   "cell_type": "markdown",
   "metadata": {},
   "source": [
    "### Number of Permutations\n",
    "Say you're getting married and you're trying to plan out the seating arrangements. Because of the wonders of family drama and politics, it matters who sits next to who (Aunt Bertha can sit at the same table as Uncle Jim, but not right next to each other because Jim's allergic to Bertha's perfume). \n",
    "\n",
    "This is a perfect example for permutations, because in a permutation, the order matters. ABC != ACB.\n",
    "\n",
    "Say each table holds 5 people, and you want to know all the possible ways your 50 guests could be seated at one of the tables. How many different ways can you do that?\n",
    "\n",
    "For the first spot at your table, there are 50 possible guests. But for the second spot, you can't seat the same guest twice, so there are only 49 possibilities. Then 48, 47, and 46. Then whoops...you're out of chairs!"
   ]
  },
  {
   "cell_type": "code",
   "execution_count": null,
   "metadata": {},
   "outputs": [],
   "source": [
    "import math\n",
    "\n",
    "def guest_permuations(table_size, guest_size):\n",
    "    return math.factorial(guest_size) // math.factorial(guest_size - table_size)\n",
    "\n",
    "# Generalized using mathematic notation P(n, k)\n",
    "def P(n, k):\n",
    "    # n! / (n-k)! isolates k * (k+1) * (k+2) * ... * n\n",
    "    return math.factorial(n) // math.factorial(n - k)\n",
    "\n",
    "print(P(7, 3))\n",
    "print(P(50, 5))\n",
    "print(P(6, 6)) # 0! = 1"
   ]
  },
  {
   "cell_type": "markdown",
   "metadata": {},
   "source": [
    "#### Coding Note\n",
    "Factorials are really awful in terms of time complexity: O(n) where n is the number. Especially when doing `n!/(n-k)!`, the entirety of the second call cancels out most of the first call. So while I wrote the above functions according to their mathematical notation, this would be a much more efficient solution:"
   ]
  },
  {
   "cell_type": "code",
   "execution_count": null,
   "metadata": {
    "collapsed": true
   },
   "outputs": [],
   "source": [
    "# This runs in O(k) time.\n",
    "def optimized_P(n, k):\n",
    "    if (n < k):\n",
    "        return 0;\n",
    "    permutations = 1;\n",
    "    for num in range(n - k, n + 1):\n",
    "        permutations *= num\n",
    "    return permutations"
   ]
  },
  {
   "cell_type": "markdown",
   "metadata": {},
   "source": [
    "### Number of Combinations\n",
    "Now let's pretend you live in a perfectly harmonious family where there's no drama. Anyone can sit next to anyone...magical. But that means that P(50, 5) is waaaay too many options! ABCDE == ABDEC == EDCBA, so we can use this to significantly reduce our choices.\n",
    "\n",
    "Combinations are permutations where the order doesn't matter, denoted by C(n, k). To get a feel for how to solve our wedding problem, let's first look at a simpler example.\n",
    "\n",
    "You have 3 cups and two balls. If you care which ball is in which cup, there are 6 possible combinations:\n",
    "\n",
    "`\n",
    "|       |    Balls (A, B, C)    |\n",
    "|-------|---|---|---|---|---|---|\n",
    "| Cup 1 | A | B | A | C | B | C |\n",
    "| Cup 2 | B | A | C | A | C | B |\n",
    "`\n",
    "\n",
    "\n",
    "However, if we don't care which cup a ball is in, and only which balls are in cups, the number of options dwindles.\n",
    "\n",
    "`\n",
    "|     | Balls (A, B, C) |\n",
    "|-----|-----|-----|-----|\n",
    "| Cup |  A  |  A  |  B  |\n",
    "| Cup |  B  |  C  |  C  |\n",
    "`\n",
    "\n",
    "#### How I think About it\n",
    "If you have n items and you want to choose k, the first step is to compute P(n, k). However, this is the number of unique combinations of k elements of n.\n",
    "\n",
    "Your sublist is k elements long. That means for any given list, there are k! permutations of it. Therefore, if you take the number of permutations (P(n, k)) and divide it by the number of ways k can be permutated, you get the number of combinations!\n",
    "\n",
    "One more example...10 choose 3. There are 720 3-length permutations (`10 * 9 * 8`) of those 10 elements. Let's say the elements are letters: `[a, b, c, d, e, f, g, h, i, j]`\n",
    "\n",
    "Of those 720 permutations, here are 6 of them:\n",
    "* `[a, b, c]`\n",
    "* `[a, c, b]`\n",
    "* `[b, c, a]`\n",
    "* `[b, a, c]`\n",
    "* `[c, b, a]`\n",
    "* `[c, a, b]`\n",
    "\n",
    "Since we want combinations, all 6 (3! *ahem ahem*) of these are treated as the same permutation. This means for ever 6 permutations, we only care about one of them. Therefore the number of combinations is P(n, k) // k!...Or, written on its own: `n!/(n-k)!k!`"
   ]
  },
  {
   "cell_type": "code",
   "execution_count": null,
   "metadata": {},
   "outputs": [],
   "source": [
    "def C(n, k):\n",
    "    numerator = math.factorial(n)\n",
    "    denominator = math.factorial(n - k) * math.factorial(k)\n",
    "    return numerator // denominator\n",
    "\n",
    "# Optimized:\n",
    "def optimized_C(n, k):\n",
    "    return optimized_P(n, k) // math.factorial(k)\n",
    "\n",
    "print(C(10, 3))"
   ]
  }
 ],
 "metadata": {
  "kernelspec": {
   "display_name": "Python 3",
   "language": "python",
   "name": "python3"
  },
  "language_info": {
   "codemirror_mode": {
    "name": "ipython",
    "version": 3
   },
   "file_extension": ".py",
   "mimetype": "text/x-python",
   "name": "python",
   "nbconvert_exporter": "python",
   "pygments_lexer": "ipython3",
   "version": "3.6.1"
  }
 },
 "nbformat": 4,
 "nbformat_minor": 2
}
