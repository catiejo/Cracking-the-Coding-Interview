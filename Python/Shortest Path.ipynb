{
 "cells": [
  {
   "cell_type": "markdown",
   "metadata": {},
   "source": [
    "# Djikstra's Algorithm\n",
    "If you want a really nice refresher on Djikstra's Algortith, check out this [Computerphile video](https://youtu.be/GazC3A4OQTE). \n",
    "\n",
    "Djikstra's finds the shortest path between two nodes. The essence of the algorithm is as follows:\n",
    "* Start with node \"a\"\n",
    "* Add children to priority queue, prioritizing by the length of the total path from \"a\" to this point.\n",
    "* Keep going unti the priority queue is empty (no path exists) or b is at the top of your queue.\n",
    "\n",
    "To do this, you need a special kind of priority queue that allows you that allows you to update an element's priority if a shorter path is found. I created a class called `MutableHeap` to handle this complexity for me, as well as a `Node` class for the graph representation."
   ]
  },
  {
   "cell_type": "code",
   "execution_count": 1,
   "metadata": {},
   "outputs": [],
   "source": [
    "import heapq\n",
    "import math\n",
    "import itertools\n",
    "from collections import namedtuple\n",
    "\n",
    "class Node:\n",
    "    def __init__(self, position):\n",
    "        self.position = position\n",
    "        self.neighbors = {}\n",
    "    def __str__(self):\n",
    "        return self.position\n",
    "    def __repr__(self):\n",
    "        return str(self.position)\n",
    "    def add_neighbors(self, neighbors):\n",
    "        for neighbor, weight in neighbors.items():\n",
    "            self.neighbors[neighbor] = weight\n",
    "\n",
    "# Used to represent a path from the start to the given node\n",
    "Path = namedtuple(\"Path\", (\"length\", \"node\", \"prev_node\"))\n",
    "\n",
    "class MutableHeap:\n",
    "    def __init__(self):\n",
    "        self.__paths = []\n",
    "        self.__nodes = {}\n",
    "        self.__count = itertools.count()\n",
    "    def __len__(self):\n",
    "        return len(self.__paths)\n",
    "    def push(self, path, priority):\n",
    "        if type(path) != Path:\n",
    "            raise TypeError(\"Must be a Path namedtuple!\")\n",
    "        # Check to update node if it already exists\n",
    "        if path.node in self.__nodes:\n",
    "            cur_entry = self.__nodes[path.node]\n",
    "            if path.length > cur_entry[2].length:\n",
    "                # Current path from start is better.\n",
    "                return\n",
    "            cur_entry[2] = None\n",
    "        entry = [priority, next(self.__count), path]\n",
    "        self.__nodes[path.node] = entry\n",
    "        heapq.heappush(self.__paths, entry)\n",
    "    def pop(self):\n",
    "        pop = None\n",
    "        while len(self.__paths) and pop == None:\n",
    "            pop = heapq.heappop(self.__paths)[2]\n",
    "        if pop:\n",
    "            self.__nodes.pop(pop.node)\n",
    "        return pop"
   ]
  },
  {
   "cell_type": "markdown",
   "metadata": {},
   "source": [
    "Next, I wrote the meat of the algorithm. With the ugliness of the priority queue out of the way, it's actually pretty simple."
   ]
  },
  {
   "cell_type": "code",
   "execution_count": 2,
   "metadata": {
    "collapsed": true
   },
   "outputs": [],
   "source": [
    "def djikstra(a, b):\n",
    "    visited = {}\n",
    "    heap = MutableHeap()\n",
    "    heap.push(Path(0, a, None), 0)\n",
    "    while len(heap):\n",
    "        shortest_path = heap.pop()\n",
    "        print(\"Processing\", shortest_path.node.position)\n",
    "        for n, length in shortest_path.node.neighbors.items():\n",
    "            if n not in visited:\n",
    "                print(\"--adding:\", n.position, \"to heap\")\n",
    "                new_path = Path(shortest_path.length + length, n, shortest_path.node)\n",
    "                heap.push(new_path, new_path.length)\n",
    "        visited[shortest_path.node] = shortest_path.prev_node\n",
    "        if shortest_path.node == b:\n",
    "            return get_path(b, visited) #Path found!\n",
    "    return None #No path found.\n",
    "\n",
    "def get_path(node, path_to):\n",
    "    path = []\n",
    "    cur_node = node\n",
    "    while cur_node:\n",
    "        path.append(cur_node)\n",
    "        cur_node = path_to[cur_node]\n",
    "    return path[::-1]"
   ]
  },
  {
   "cell_type": "markdown",
   "metadata": {},
   "source": [
    "# A*\n",
    "A problem with Djikstra's algorithm is that it *always* goes with the shortest path first, even if that path is taking you farther away from your goal. A\\* fixes that by adding a heuristic that nodes closer to your target are more likely to lead you to your shortest path. Therefore, instead of prioritizing by just the length of the path, you prioritize by the length + the distance you are from your goal. \n",
    "\n",
    "This is particularly useful when thought of geographically. If each node has a coordinate of where it is in space, you can compute the distance between those two nodes. Then the shorter paths with smaller distances get picked first, and it allows your algorithm to more or less beeline for your endpoint.\n",
    "\n",
    "It's worth noting that these algorithms are practically the same. The only difference between my `a_star` algorithm and my `djikstra` algorithm is when pushing onto the heap (line 12), you set the priority to `length + distance_to_b` instead of just the length."
   ]
  },
  {
   "cell_type": "code",
   "execution_count": 3,
   "metadata": {
    "collapsed": true
   },
   "outputs": [],
   "source": [
    "\n",
    "def a_star(a, b):\n",
    "    visited = {}\n",
    "    heap = MutableHeap()\n",
    "    heap.push(Path(0, a, None), get_distance(a, b))\n",
    "    while len(heap):\n",
    "        best_path = heap.pop()\n",
    "        print(\"Processing\", best_path.node.position)\n",
    "        for n, length in best_path.node.neighbors.items():\n",
    "            if n not in visited:\n",
    "                print(\"--adding:\", n.position, \"to heap\")\n",
    "                new_path = Path(best_path.length + length, n, best_path.node)\n",
    "                distance_to_b = get_distance(n, b)\n",
    "                heap.push(new_path, distance_to_b)\n",
    "            visited[best_path.node] = best_path.prev_node\n",
    "            if best_path.node == b:\n",
    "                return get_path(b, visited) #Path found!\n",
    "    return None #No path found.\n",
    "\n",
    "def get_distance(a, b):\n",
    "    x1, y1 = a.position\n",
    "    x2, y2 = b.position\n",
    "    xdiff = (x2 - x1) ** 2   \n",
    "    ydiff = (y2 - y1) ** 2\n",
    "    return math.sqrt(xdiff + ydiff)"
   ]
  },
  {
   "cell_type": "markdown",
   "metadata": {},
   "source": [
    "# Testing it Out\n"
   ]
  },
  {
   "cell_type": "code",
   "execution_count": 6,
   "metadata": {},
   "outputs": [
    {
     "name": "stdout",
     "output_type": "stream",
     "text": [
      "****Djikstra****\n",
      "Processing (0, 0)\n",
      "--adding: (0, 1) to heap\n",
      "--adding: (1, 1) to heap\n",
      "Processing (0, 1)\n",
      "--adding: (1, 1) to heap\n",
      "Processing (1, 1)\n",
      "--adding: (2, 2) to heap\n",
      "Processing (2, 2)\n",
      "--adding: (1, 2) to heap\n",
      "--adding: (2, 1) to heap\n",
      "--adding: (3, 3) to heap\n",
      "Processing (3, 3)\n",
      "--adding: (3, 2) to heap\n",
      "[(0, 0), (1, 1), (2, 2), (3, 3)]\n",
      "\n",
      "****A Star****\n",
      "Processing (0, 0)\n",
      "--adding: (0, 1) to heap\n",
      "--adding: (1, 1) to heap\n",
      "Processing (1, 1)\n",
      "--adding: (0, 1) to heap\n",
      "--adding: (2, 2) to heap\n",
      "Processing (2, 2)\n",
      "--adding: (1, 2) to heap\n",
      "--adding: (2, 1) to heap\n",
      "--adding: (3, 3) to heap\n",
      "Processing (3, 3)\n",
      "--adding: (3, 2) to heap\n",
      "[(0, 0), (1, 1), (2, 2), (3, 3)]\n"
     ]
    }
   ],
   "source": [
    "nodes = [Node((x, y)) for x in range(4) for y in range(4)]\n",
    "\n",
    "nodes[0].add_neighbors({nodes[1]:2, nodes[5]:2})\n",
    "nodes[1].add_neighbors({nodes[0]:2, nodes[5]:1})\n",
    "nodes[2].add_neighbors({nodes[3]:3})\n",
    "nodes[3].add_neighbors({nodes[2]:3, nodes[7]:3})\n",
    "\n",
    "nodes[4].add_neighbors({nodes[8]:4})\n",
    "nodes[5].add_neighbors({nodes[0]:2, nodes[1]:1, nodes[10]:1})\n",
    "nodes[6].add_neighbors({nodes[7]:1, nodes[10]:2})\n",
    "nodes[7].add_neighbors({nodes[3]:3, nodes[6]:1, nodes[11]:2})\n",
    "\n",
    "nodes[8].add_neighbors({nodes[4]:4, nodes[9]:3})\n",
    "nodes[9].add_neighbors({nodes[8]:3, nodes[10]:2, nodes[13]:1})\n",
    "nodes[10].add_neighbors({nodes[5]:1, nodes[6]:2, nodes[9]:2, nodes[15]:1})\n",
    "nodes[11].add_neighbors({nodes[7]:2})\n",
    "\n",
    "nodes[12].add_neighbors({nodes[13]:2})\n",
    "nodes[13].add_neighbors({nodes[12]:2, nodes[14]:3, nodes[9]:1})\n",
    "nodes[14].add_neighbors({nodes[15]:1, nodes[13]:3})\n",
    "nodes[15].add_neighbors({nodes[14]:1, nodes[10]:1})\n",
    "\n",
    "print(\"****Djikstra****\")\n",
    "print(djikstra(nodes[0], nodes[15]))\n",
    "print(\"\\n****A Star****\")\n",
    "print(a_star(nodes[0], nodes[15]))"
   ]
  }
 ],
 "metadata": {
  "kernelspec": {
   "display_name": "Python 3",
   "language": "python",
   "name": "python3"
  },
  "language_info": {
   "codemirror_mode": {
    "name": "ipython",
    "version": 3
   },
   "file_extension": ".py",
   "mimetype": "text/x-python",
   "name": "python",
   "nbconvert_exporter": "python",
   "pygments_lexer": "ipython3",
   "version": "3.6.1"
  }
 },
 "nbformat": 4,
 "nbformat_minor": 2
}
