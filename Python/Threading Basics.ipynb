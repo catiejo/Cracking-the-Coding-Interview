{
 "cells": [
  {
   "cell_type": "markdown",
   "metadata": {},
   "source": [
    "### Example w/class override"
   ]
  },
  {
   "cell_type": "code",
   "execution_count": 6,
   "metadata": {
    "scrolled": false
   },
   "outputs": [
    {
     "name": "stdout",
     "output_type": "stream",
     "text": [
      "Starting Thread-2Starting Thread-1\n",
      "\n",
      "Thread-1: Sun Jun  4 22:41:33 2017\n",
      "Thread-2: Sun Jun  4 22:41:34 2017\n",
      "Thread-1: Sun Jun  4 22:41:35 2017\n",
      "Thread-1: Sun Jun  4 22:41:36 2017\n",
      "Thread-2: Sun Jun  4 22:41:37 2017\n",
      "Thread-1: Sun Jun  4 22:41:37 2017\n",
      "Thread-1: Sun Jun  4 22:41:38 2017\n",
      "Exiting Thread-1\n",
      "Thread-2: Sun Jun  4 22:41:39 2017\n",
      "Thread-2: Sun Jun  4 22:41:41 2017\n",
      "Thread-2: Sun Jun  4 22:41:43 2017Exiting Main Thread\n",
      "\n",
      "Exiting Thread-2\n"
     ]
    }
   ],
   "source": [
    "import threading\n",
    "import time\n",
    "\n",
    "class myThread (threading.Thread):\n",
    "   def __init__(self, threadID, name, counter):\n",
    "      threading.Thread.__init__(self)\n",
    "      self.threadID = threadID\n",
    "      self.name = name\n",
    "      self.counter = counter\n",
    "   def run(self):\n",
    "      print (\"Starting \" + self.name)\n",
    "      print_time(self.name, self.counter, 5)\n",
    "      print (\"Exiting \" + self.name)\n",
    "\n",
    "def print_time(threadName, delay, counter):\n",
    "   while counter:\n",
    "      time.sleep(delay)\n",
    "      print (\"%s: %s\" % (threadName, time.ctime(time.time())))\n",
    "      counter -= 1\n",
    "\n",
    "# Create new threads\n",
    "thread1 = myThread(1, \"Thread-1\", 1)\n",
    "thread2 = myThread(2, \"Thread-2\", 2)\n",
    "\n",
    "# Start new Threads\n",
    "thread1.start()\n",
    "thread2.start()\n",
    "thread1.join()\n",
    "thread2.join()\n",
    "print (\"Exiting Main Thread\")\n"
   ]
  },
  {
   "cell_type": "markdown",
   "metadata": {},
   "source": [
    "### Example w/o class override"
   ]
  },
  {
   "cell_type": "code",
   "execution_count": 9,
   "metadata": {},
   "outputs": [
    {
     "name": "stdout",
     "output_type": "stream",
     "text": [
      "Starting Thread0\n",
      "Starting Thread1\n",
      "Thread0: Sun Jun  4 22:49:14 2017\n",
      "Thread1: Sun Jun  4 22:49:15 2017\n",
      "Thread0: Sun Jun  4 22:49:15 2017\n",
      "Thread0: Sun Jun  4 22:49:16 2017\n",
      "Thread1: Sun Jun  4 22:49:17 2017Thread0: Sun Jun  4 22:49:17 2017\n",
      "\n",
      "Thread0: Sun Jun  4 22:49:18 2017\n",
      "Exiting Thread0\n",
      "Thread1: Sun Jun  4 22:49:19 2017\n",
      "Thread1: Sun Jun  4 22:49:21 2017\n",
      "Thread1: Sun Jun  4 22:49:23 2017\n",
      "Exiting Thread1\n",
      "Exiting Main Thread\n"
     ]
    }
   ],
   "source": [
    "import threading\n",
    "import time\n",
    "\n",
    "def print_time(threadName, delay, counter):\n",
    "   while counter:\n",
    "      time.sleep(delay)\n",
    "      print (\"{}: {}\".format(threadName, time.ctime(time.time())))\n",
    "      counter -= 1\n",
    "    \n",
    "# Create new threads\n",
    "threads = []\n",
    "def spawn_thread(delay, counter):\n",
    "    thread_name = \"Thread\" + str(len(threads))\n",
    "    thread = threading.Thread(target=print_time, name=thread_name, args=(thread_name, delay, counter))\n",
    "    threads.append(thread)\n",
    "\n",
    "spawn_thread(1, 5)\n",
    "spawn_thread(2, 5)\n",
    "\n",
    "for thread in threads:\n",
    "    print (\"Starting \" + thread.name)\n",
    "    thread.start()\n",
    "    \n",
    "for thread in threads:\n",
    "    thread.join()\n",
    "    print (\"Exiting \" + thread.name)\n",
    "\n",
    "\n",
    "# Start new Threads\n",
    "# print (\"Starting \" + thread1.name)\n",
    "# thread1.start()\n",
    "# print (\"Starting \" + thread2.name)\n",
    "# thread2.start()\n",
    "# thread1.join()\n",
    "# print (\"Exiting \" + thread1.name)\n",
    "# thread2.join()\n",
    "# print (\"Exiting \" + thread2.name)\n",
    "\n",
    "print (\"Exiting Main Thread\")\n"
   ]
  },
  {
   "cell_type": "code",
   "execution_count": 5,
   "metadata": {},
   "outputs": [
    {
     "name": "stdout",
     "output_type": "stream",
     "text": [
      "Starting Thread-1\n",
      "Starting Thread-2\n",
      "Thread-1: Sun Jun  4 22:30:09 2017\n",
      "Thread-1: Sun Jun  4 22:30:10 2017\n",
      "Thread-1: Sun Jun  4 22:30:11 2017\n",
      "Thread-2: Sun Jun  4 22:30:13 2017\n",
      "Thread-2: Sun Jun  4 22:30:15 2017\n",
      "Thread-2: Sun Jun  4 22:30:17 2017\n",
      "Exiting Main Thread\n"
     ]
    }
   ],
   "source": [
    "import threading\n",
    "import time\n",
    "\n",
    "class myThread (threading.Thread):\n",
    "   def __init__(self, threadID, name, counter):\n",
    "      threading.Thread.__init__(self)\n",
    "      self.threadID = threadID\n",
    "      self.name = name\n",
    "      self.counter = counter\n",
    "   def run(self):\n",
    "      print (\"Starting \" + self.name)\n",
    "      # Get lock to synchronize threads\n",
    "      threadLock.acquire()\n",
    "      print_time(self.name, self.counter, 3)\n",
    "      # Free lock to release next thread\n",
    "      threadLock.release()\n",
    "\n",
    "def print_time(threadName, delay, counter):\n",
    "   while counter:\n",
    "      time.sleep(delay)\n",
    "      print (\"%s: %s\" % (threadName, time.ctime(time.time())))\n",
    "      counter -= 1\n",
    "\n",
    "threadLock = threading.Lock()\n",
    "threads = []\n",
    "\n",
    "# Create new threads\n",
    "thread1 = myThread(1, \"Thread-1\", 1)\n",
    "thread2 = myThread(2, \"Thread-2\", 2)\n",
    "\n",
    "# Start new Threads\n",
    "thread1.start()\n",
    "thread2.start()\n",
    "\n",
    "# Add threads to thread list\n",
    "threads.append(thread1)\n",
    "threads.append(thread2)\n",
    "\n",
    "# Wait for all threads to complete\n",
    "for t in threads:\n",
    "   t.join()\n",
    "print (\"Exiting Main Thread\")\n"
   ]
  }
 ],
 "metadata": {
  "kernelspec": {
   "display_name": "Python 3",
   "language": "python",
   "name": "python3"
  },
  "language_info": {
   "codemirror_mode": {
    "name": "ipython",
    "version": 3
   },
   "file_extension": ".py",
   "mimetype": "text/x-python",
   "name": "python",
   "nbconvert_exporter": "python",
   "pygments_lexer": "ipython3",
   "version": "3.6.1"
  }
 },
 "nbformat": 4,
 "nbformat_minor": 2
}
