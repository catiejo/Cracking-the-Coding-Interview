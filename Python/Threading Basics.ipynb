{
 "cells": [
  {
   "cell_type": "markdown",
   "metadata": {},
   "source": [
    "# Threads\n",
    "For getting started understanding threads in Python 3, I found this [Tutorials Point article](https://www.tutorialspoint.com/python3/python_multithreading.htm) to be really helpful. That said, here are my answers to the coding questions in Chapter 15 of CTCI."
   ]
  },
  {
   "cell_type": "markdown",
   "metadata": {},
   "source": [
    "## Thread vs. Process\n",
    "> *15.1: What's the difference between a thread and a process?*\n",
    "\n",
    "A process is an instance of a program on your computer (e.g. Unity or Microsoft Word). It has it's own memory allocation, it's own scheduled time in the CPU, and it's isolated from other processes. So if Unity wants to talk to another application, they have to formally set up communication (e.g. *pipes*, *files*, and *sockets*) because it cannot access that process' memory without permission. \n",
    "\n",
    "A thread, on the other hand, is part of a process. Separate threads still have their own local memory and call stack, but if they change data for the process, all of the sibling threads can see it. They also need to fit within the parent process' CPU time."
   ]
  },
  {
   "cell_type": "markdown",
   "metadata": {},
   "source": [
    "## Context Switches\n",
    "> *15.2: How would you measure the time spent in a context switch?*\n",
    "\n",
    "So what's a context switch? Context switches occur when a single processor moves between different jobs. Control is handed over to the kernel, and it takes the current state of the thread/process and puts it in the waiting state, then brings the next highest priority process into the running state. The registers/memory for one process get saved and moved aside and replaced with the new process' previous state. \n",
    "\n",
    "To measure the time between context switches, CTCI recommends passing some sort of token back and forth between two processes. You can then use it as a sort of game of ping pong, and use the time stamps between sending the token and receiving it on the other side as the length of a context switch.\n",
    "\n",
    "One important thing to keep in mind here is that you can't force the kernel to go exactly from one process to another. Depending on the priority of other running processes, it may use the gap between P1 and P2 to run another process first. Therefore it's hard to get an exact number. The best approach here is to run it hundreds of times, then take the minimum time difference as the closest estimate for the length of the context switch."
   ]
  },
  {
   "cell_type": "markdown",
   "metadata": {},
   "source": [
    "## Dining Philosophers\n",
    "\n",
    "> *15.3: In the famous dining philosophers problem, a bunch of philosophers are sitting around a circular table with one chopstick between each of them. A philosopher needs both chopsticks to eat, and always picks up the left chopstick before the right one. A deadlock could potentially occur if all the philosophers reached for their left chopstick at the same time. Using threads and locks, implement a simulation of the dining philosophers problem that prevents deadlocks.*\n",
    "\n",
    "My solution to this problem involves putting a lock on the chopsticks, and checking if both the left and right chopsticks are available before picking them up. Once they're both available, the philosopher takes a bite and places both chopsticks back on the table so the next person can use them (unhygenic, but hey). When the meal is done (in my case, when they've taken 10 bites), the philosopher gets up to go think about desert."
   ]
  },
  {
   "cell_type": "code",
   "execution_count": 3,
   "metadata": {
    "collapsed": true
   },
   "outputs": [],
   "source": [
    "import threading\n",
    "import time\n",
    "import random\n",
    "\n",
    "print_lock = threading.Lock()\n",
    "print_statements = []\n",
    "\n",
    "def philosophers_eating_chinese(philosophers, entrees):\n",
    "    chopstick_lock = threading.Lock()\n",
    "    chopsticks = [True] * len(philosophers)\n",
    "    philosopher_threads = []\n",
    "    \n",
    "    for i, name in enumerate(philosophers):\n",
    "        philosopher = Philosopher(i, name, entrees[i % len(entrees)], chopsticks, chopstick_lock)\n",
    "        philosopher_threads.append(philosopher)\n",
    "    \n",
    "    with print_lock:\n",
    "        print_statements.append(\"Let's eat!\")\n",
    "        \n",
    "    for hungry_philosopher in philosopher_threads:\n",
    "        hungry_philosopher.start()\n",
    "    \n",
    "    for full_philosopher in philosopher_threads:\n",
    "        full_philosopher.join()\n",
    "        \n",
    "    with print_lock:\n",
    "        for statement in print_statements:\n",
    "            print(statement)\n",
    "        print(\"Dinner is finished!\")\n",
    "\n",
    "    \n",
    "class Philosopher (threading.Thread):\n",
    "    def __init__(self, pos, name, meal, chopsticks, lock):\n",
    "        threading.Thread.__init__(self)\n",
    "        self.pos = pos\n",
    "        self.name = name\n",
    "        self.meal = meal\n",
    "        self.chopsticks = chopsticks\n",
    "        self.lock = lock\n",
    "        with print_lock:\n",
    "            print_statements.append (self.name + \" took a seat at the table\")\n",
    "            \n",
    "    def run(self):\n",
    "        finished_eating = False\n",
    "        has_chopsticks = False\n",
    "        bites_remaining = 10\n",
    "        bite_generator = random.Random()\n",
    "        while not finished_eating:\n",
    "            with self.lock:\n",
    "                left_chopstick = self.pos\n",
    "                right_chopstick = (self.pos + 1) % len(self.chopsticks)\n",
    "                if self.chopsticks[left_chopstick] and self.chopsticks[right_chopstick]:\n",
    "                    has_chopsticks = True\n",
    "                    self.chopsticks[left_chopstick] = False\n",
    "                    self.chopsticks[right_chopstick] = False\n",
    "            if has_chopsticks:\n",
    "                time.sleep(bite_generator.uniform(0.01, 0.05)) #Take a bite\n",
    "                bites_remaining -= 1\n",
    "                with print_lock:\n",
    "                    if bites_remaining:\n",
    "                        print_statements.append(self.name + \" has \" + str(bites_remaining) + \" bites left of \" + self.meal)\n",
    "                    else:\n",
    "                        print_statements.append(self.name + \" has finished eating the \" + self.meal)\n",
    "                if bites_remaining == 0:\n",
    "                    finished_eating = True\n",
    "\n",
    "                with self.lock:\n",
    "                    left_chopstick = self.pos\n",
    "                    right_chopstick = (self.pos + 1) % len(self.chopsticks)\n",
    "                    self.chopsticks[left_chopstick] = True\n",
    "                    self.chopsticks[right_chopstick] = True\n",
    "                    has_chopsticks = False\n",
    "        with print_lock:\n",
    "            print_statements.append(self.name + \" got up to go philosophize about desert.\")\n"
   ]
  },
  {
   "cell_type": "markdown",
   "metadata": {},
   "source": [
    "### Test for Dining Philosophers\n",
    "For clarity in the output, I have added a global **`print_statements`** list with a **`print_lock`** guarding it. This ensures that everything gets printed in the correct order, though not at runtime. Even though print is supposedly threadsafe in Python 3, my attempts to use it have resulted in a lot of garbage output."
   ]
  },
  {
   "cell_type": "code",
   "execution_count": 5,
   "metadata": {},
   "outputs": [
    {
     "name": "stdout",
     "output_type": "stream",
     "text": [
      "Aristotle took a seat at the table\n",
      "Plato took a seat at the table\n",
      "Nietzsche took a seat at the table\n",
      "Confucius took a seat at the table\n",
      "Chomsky took a seat at the table\n",
      "Socrates took a seat at the table\n",
      "Let's eat!\n",
      "Aristotle has 9 bites left of kung pao chicken\n",
      "Confucius has 9 bites left of beef and potatoes\n",
      "Aristotle has 8 bites left of kung pao chicken\n",
      "Confucius has 8 bites left of beef and potatoes\n",
      "Aristotle has 7 bites left of kung pao chicken\n",
      "Confucius has 7 bites left of beef and potatoes\n",
      "Aristotle has 6 bites left of kung pao chicken\n",
      "Confucius has 6 bites left of beef and potatoes\n",
      "Aristotle has 5 bites left of kung pao chicken\n",
      "Confucius has 5 bites left of beef and potatoes\n",
      "Aristotle has 4 bites left of kung pao chicken\n",
      "Confucius has 4 bites left of beef and potatoes\n",
      "Aristotle has 3 bites left of kung pao chicken\n",
      "Confucius has 3 bites left of beef and potatoes\n",
      "Aristotle has 2 bites left of kung pao chicken\n",
      "Confucius has 2 bites left of beef and potatoes\n",
      "Aristotle has 1 bites left of kung pao chicken\n",
      "Aristotle has finished eating the kung pao chicken\n",
      "Aristotle got up to go philosophize about desert.\n",
      "Socrates has 9 bites left of mock duck\n",
      "Confucius has 1 bites left of beef and potatoes\n",
      "Plato has 9 bites left of General Tso's chicken\n",
      "Socrates has 8 bites left of mock duck\n",
      "Plato has 8 bites left of General Tso's chicken\n",
      "Socrates has 7 bites left of mock duck\n",
      "Confucius has finished eating the beef and potatoes\n",
      "Plato has 7 bites left of General Tso's chicken\n",
      "Socrates has 6 bites left of mock duck\n",
      "Confucius got up to go philosophize about desert.\n",
      "Socrates has 5 bites left of mock duck\n",
      "Nietzsche has 9 bites left of fried rice\n",
      "Socrates has 4 bites left of mock duck\n",
      "Nietzsche has 8 bites left of fried rice\n",
      "Socrates has 3 bites left of mock duck\n",
      "Nietzsche has 7 bites left of fried rice\n",
      "Socrates has 2 bites left of mock duck\n",
      "Nietzsche has 6 bites left of fried rice\n",
      "Socrates has 1 bites left of mock duck\n",
      "Nietzsche has 5 bites left of fried rice\n",
      "Nietzsche has 4 bites left of fried rice\n",
      "Socrates has finished eating the mock duck\n",
      "Socrates got up to go philosophize about desert.\n",
      "Nietzsche has 3 bites left of fried rice\n",
      "Chomsky has 9 bites left of egg rolls\n",
      "Chomsky has 8 bites left of egg rolls\n",
      "Nietzsche has 2 bites left of fried rice\n",
      "Nietzsche has 1 bites left of fried rice\n",
      "Chomsky has 7 bites left of egg rolls\n",
      "Nietzsche has finished eating the fried rice\n",
      "Chomsky has 6 bites left of egg rolls\n",
      "Nietzsche got up to go philosophize about desert.\n",
      "Plato has 6 bites left of General Tso's chicken\n",
      "Plato has 5 bites left of General Tso's chicken\n",
      "Chomsky has 5 bites left of egg rolls\n",
      "Plato has 4 bites left of General Tso's chicken\n",
      "Chomsky has 4 bites left of egg rolls\n",
      "Chomsky has 3 bites left of egg rolls\n",
      "Plato has 3 bites left of General Tso's chicken\n",
      "Chomsky has 2 bites left of egg rolls\n",
      "Plato has 2 bites left of General Tso's chicken\n",
      "Chomsky has 1 bites left of egg rolls\n",
      "Plato has 1 bites left of General Tso's chicken\n",
      "Chomsky has finished eating the egg rolls\n",
      "Chomsky got up to go philosophize about desert.\n",
      "Plato has finished eating the General Tso's chicken\n",
      "Plato got up to go philosophize about desert.\n",
      "Dinner is finished!\n"
     ]
    }
   ],
   "source": [
    "# Clear print_statments\n",
    "with print_lock:\n",
    "    del print_statements[:]\n",
    "    \n",
    "philosophers = [\"Aristotle\", \"Plato\", \"Nietzsche\", \"Confucius\", \"Chomsky\", \"Socrates\"]\n",
    "meals = [\"kung pao chicken\", \"General Tso's chicken\", \"fried rice\", \"beef and potatoes\", \"egg rolls\", \"mock duck\"]\n",
    "\n",
    "philosophers_eating_chinese(philosophers, meals)"
   ]
  },
  {
   "cell_type": "markdown",
   "metadata": {},
   "source": [
    "### CTCI Solution\n",
    "So in my code, I have a single lock that controls access to all of the chopsticks. However, a better solution would be to have a lock for each chopstick, and pass the left and right chopstick locks to the threads instead of a larger chopstick lock. After all, in my implementation, only one person can touch the table at a time, which is a little silly in practice. If that's the case though, you could run into synchronicity problems. Say everyone picks up their left chopstick, sees there is no right chopstick available. If the system is *perfectly* synchronized, we could induce a weird sort of deadlock where philosophers pick up the left, check for the right, put it down, then start over again.\n",
    "\n",
    "However, a particularly nifty solution can be found in how you identify the \"left chopstick\". In my implementation, the i'th person's left chopstick is always located in the i-th index of the chopstick array. Similarly, the right chopstick is found by `(self.pos + 1) % len(self.chopsticks)`. Therfore, the last person's right chopstick is actually stored at index 0 (because of the circular nature of the array..*cough cough*...table). However, if instead of always choosing the left chopstick, the philosophers always chose the lower indexed chopstick, the last person would reach for their right chopstick (at `i=0`) rather than their left (at `i=len(chopsticks) - 1`). This little tweak allows the second to last philosopher to start eating, thus preventing deadlock!"
   ]
  }
 ],
 "metadata": {
  "kernelspec": {
   "display_name": "Python 3",
   "language": "python",
   "name": "python3"
  },
  "language_info": {
   "codemirror_mode": {
    "name": "ipython",
    "version": 3
   },
   "file_extension": ".py",
   "mimetype": "text/x-python",
   "name": "python",
   "nbconvert_exporter": "python",
   "pygments_lexer": "ipython3",
   "version": "3.6.1"
  }
 },
 "nbformat": 4,
 "nbformat_minor": 2
}
