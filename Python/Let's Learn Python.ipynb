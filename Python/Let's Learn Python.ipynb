{
 "cells": [
  {
   "cell_type": "markdown",
   "metadata": {},
   "source": [
    "# The World of Python 3.6\n",
    "I'm learning Python for my coding interviews, and now that I've had some time to get my bearing, it's a pretty great language. This notebook is intended to cover the main topics of python, both for cementing my current knowledge level, and also as a refresher for future me (or whoever else) that needs a distilled, useful summary of the nifty stuff python can do.\n",
    "\n",
    "## Hall Of Fame\n",
    "If you wanna start a server with python, it's super freaking easy:\n",
    "> `python3 -m http.server`\n",
    "\n",
    "You can also just test all of these out by typing `python` into your console. So starting right off, here are my favorite functions I've come across that are really useful to know..."
   ]
  },
  {
   "cell_type": "code",
   "execution_count": 1,
   "metadata": {},
   "outputs": [
    {
     "name": "stdout",
     "output_type": "stream",
     "text": [
      "\"2468\"\n",
      "\n",
      "a = 3 and b = 7\n",
      "\n",
      "Every other element: ['Catie Jos', 'Florents', 'bananas']\n",
      "Reversed ['bananas', 'and', 'Florents', 'love', 'Catie Jos']\n",
      "\n",
      "On the 5th day of christmas, my true love gave to me:\n",
      "5 golden rings!\n",
      "4 calling birds\n",
      "3 french hens\n",
      "2 turtle doves\n",
      "1 partridge in a pear tree\n",
      "\n",
      "x = 0 y = 0\n",
      "x = 0 y = 1\n",
      "x = 1 y = 1\n",
      "x = 1 y = 0\n"
     ]
    }
   ],
   "source": [
    "# Floored division. Returns 2.\n",
    "floor = 13 // 5\n",
    "\n",
    "# Modulo. Returns 3.\n",
    "mod = 13 % 5\n",
    "\n",
    "# Pretty exponents. This is 2 to the power of 3\n",
    "power = 2 ** 3\n",
    "\n",
    "# Python has a ternary operator, but it's a little different.\n",
    "condition = True # Or false. Whatever you want.\n",
    "variable = \"value\" if condition else \"default\"\n",
    "\n",
    "# Quick tuple to list conversion\n",
    "my_list = [2, 10, 2]\n",
    "my_tuple = tuple(my_list)\n",
    "\n",
    "# You can even unpack a list or tuple (really helpful for passing to functions)\n",
    "string_of_nums = \"\"\n",
    "for i in range(*my_tuple):\n",
    "    string_of_nums += str(i)\n",
    "print('\"' + string_of_nums + '\"')\n",
    "\n",
    "# Super simple tuple-y swap\n",
    "a = 7\n",
    "b = 3\n",
    "a, b = b, a\n",
    "print(\"\\na =\", a, \"and b =\", b)\n",
    "\n",
    "\"\"\" This is a doc-string. If you put it in the start of a method or class, it shows up in the help function.\n",
    "It's also multi-line, and automatically escapes both 'single quotes' and  \"double quotes\" \"\"\"\n",
    "\n",
    "# Awesome way to filter/reverse iterables (aka strings, lists, and tuples, but also dict)\n",
    "us = [\"Catie Jos\", \"love\", \"Florents\", \"and\", \"bananas\"]\n",
    "print(\"\\nEvery other element:\", us[::2])\n",
    "print(\"Reversed\", us[::-1])\n",
    "\n",
    "# Iterate over both value and index of list\n",
    "christmas_gifts = [\"partridge in a pear tree\", \"turtle doves\", \"french hens\", \"calling birds\", \"golden rings!\"]\n",
    "print(\"\\nOn the \" + str(len(christmas_gifts)) + \"th day of christmas, my true love gave to me:\")\n",
    "refrain = \"\"\n",
    "for day, gift in enumerate(christmas_gifts):\n",
    "    present = str(day + 1) + \" \" +  gift\n",
    "    refrain = present + \"\\n\" + refrain\n",
    "print(refrain)\n",
    "\n",
    "# Works similarly for tuples...\n",
    "coords = [(0, 0), (0, 1), (1, 1), (1, 0)]\n",
    "for x, y in coords:\n",
    "    print (\"x =\", x, \"y =\", y)"
   ]
  },
  {
   "cell_type": "markdown",
   "metadata": {},
   "source": [
    "## Dicts\n",
    "This seems to be the base element of python. Data structure-wise, it's a hash map. You have a key, you assign it a value. If you reassign the same key, it overwrites the previous value, but you can have multiple keys with the same value."
   ]
  },
  {
   "cell_type": "code",
   "execution_count": 2,
   "metadata": {},
   "outputs": [
    {
     "name": "stdout",
     "output_type": "stream",
     "text": [
      "The keys...\n",
      "-- hard\n",
      "-- length\n",
      "-- 69\n",
      "\n",
      "The values...\n",
      "-- True\n",
      "-- 7\n",
      "-- I'm so mature\n",
      "\n",
      "Both keys and values...\n",
      "hard = True\n",
      "length = 7\n",
      "69 = I'm so mature\n",
      "\n",
      "Now remove a key/value pair...\n",
      "{'hard': True, 'length': 7}\n"
     ]
    }
   ],
   "source": [
    "big_dict = {}\n",
    "\n",
    "# Add elements to your dict\n",
    "big_dict[\"hard\"] = True\n",
    "big_dict[\"length\"] = 7\n",
    "big_dict[69] = \"I'm so mature\"\n",
    "\n",
    "# Printing dicts\n",
    "print(\"The keys...\")\n",
    "for key in big_dict:\n",
    "    print(\"--\", key)\n",
    "    \n",
    "print(\"\\nThe values...\")\n",
    "for val in big_dict.values():\n",
    "    print(\"--\", val)\n",
    "    \n",
    "print(\"\\nBoth keys and values...\")\n",
    "for key, val in big_dict.items():\n",
    "    print(key, \"=\", val)\n",
    "\n",
    "print(\"\\nNow remove a key/value pair...\")\n",
    "del big_dict[69]\n",
    "print(big_dict)"
   ]
  },
  {
   "cell_type": "markdown",
   "metadata": {},
   "source": [
    "## Sets\n",
    "Similar to dicts, sets are great when you need quick access, but you don't care about the frequency or order of your elements.\n",
    "\n",
    ">### Union\n",
    ">The union of sets A and B is the set that contains all elements present in either A or B.\n",
    "\n",
    ">### Intersection\n",
    ">The intersection of sets A and B is the set of all elements that appear in both A and B.\n",
    "\n",
    ">### Difference\n",
    ">The difference between two sets is order-dependent, but it's the elements in one but not the other. So A - B returns elements in A but not B, and B - A returns elements in B but not A."
   ]
  },
  {
   "cell_type": "code",
   "execution_count": 3,
   "metadata": {},
   "outputs": [
    {
     "name": "stdout",
     "output_type": "stream",
     "text": [
      "{1, 2, 'red', 'blue', 'fish'}\n",
      "{2, 'red', 'blue'}\n",
      "\n",
      "Merging sets\n",
      "{2, 4, 6, 8, 10}\n",
      "{1, 2, 3, 4, 5, 6, 7, 8, 9, 10}\n",
      "{3, 5, 7}\n",
      "True\n",
      "False\n",
      "{1, 2, 9}\n"
     ]
    }
   ],
   "source": [
    "my_set = set()\n",
    "my_set.add(1)\n",
    "my_set.add(\"fish\")\n",
    "my_set.add(2)\n",
    "my_set.add(\"fish\")\n",
    "my_set.add(\"red\")\n",
    "my_set.add(\"fish\")\n",
    "my_set.add(\"blue\")\n",
    "my_set.add(\"fish\")\n",
    "print(my_set)\n",
    "\n",
    "# To remove elements, you have two options\n",
    "my_set.remove(\"fish\") # this throws an error if it doesn't exist in the set.\n",
    "my_set.discard(1) # this only tries to remove the element if it's present.\n",
    "my_set.discard(\"fish\") # doesn't do anything, but no error\n",
    "print(my_set)\n",
    "\n",
    "# Merging sets\n",
    "numbers = set(range(1, 11))\n",
    "odds = set([1, 3, 5, 7, 9])\n",
    "evens = set([2, 4, 6, 8, 10])\n",
    "primes = set([2, 3, 5, 7])\n",
    "\n",
    "print(\"\\nMerging sets\")\n",
    "print(numbers.difference(odds)) # subtract odds from numbers\n",
    "print(evens.union(odds)) # odds and evens\n",
    "print(odds.intersection(primes)) # odd primes\n",
    "print(evens.issubset(numbers)) # checks if evens is a subset of numbers\n",
    "print(primes.issubset(odds)) # checks if primes is a subset of odds\n",
    "# XOR of two sets\n",
    "primes_diff = primes.difference(odds)\n",
    "odds_diff = odds.difference(primes)\n",
    "print(primes_diff.union(odds_diff))"
   ]
  },
  {
   "cell_type": "markdown",
   "metadata": {},
   "source": [
    "## Lists\n",
    "Because python isn't a typed language, lists can hold multiple data types at the same time."
   ]
  },
  {
   "cell_type": "code",
   "execution_count": 4,
   "metadata": {},
   "outputs": [
    {
     "name": "stdout",
     "output_type": "stream",
     "text": [
      "['wow', 42, 'oooh', 'aaah']\n",
      "[1, 2, 3]\n",
      "Slice: [42, 'oooh']\n",
      "Concatenate: ['wow', 42, 'oooh', 'aaah', 1, 2, 3]\n",
      "Multiply: ['hi', 'hi', 'hi', 'hi', 'hi']\n",
      "'wow' is in my_big_list!\n",
      "\n",
      "Working with list [1, 2, 3, 4, 5]\n",
      "[1, 2, 3, 5]\n",
      "[1, 5]\n",
      "[]\n",
      "\n",
      "Incorrectly deleted list:\n",
      "--my_amazing_list: []\n",
      "--my_other_amazing_list: ['wow', 42, 'oooh', 'aaah']\n",
      "\n",
      "Correctly deleted list:\n",
      "--my_fav_list: []\n",
      "--my_other_amazing_list: []\n",
      "--my_shallow_copy: ['wow', 42, 'oooh', 'aaah']\n"
     ]
    }
   ],
   "source": [
    "# Declare a list\n",
    "my_amazing_list = []\n",
    "my_amazing_list.append(\"wow\")\n",
    "my_amazing_list.append(42)\n",
    "my_amazing_list.append(\"oooh\")\n",
    "my_amazing_list.append(\"aaah\")\n",
    "print(my_amazing_list)\n",
    "\n",
    "my_other_list = list()\n",
    "my_other_list.append(1)\n",
    "my_other_list.append(2)\n",
    "my_other_list.append(3)\n",
    "print(my_other_list)\n",
    "\n",
    "# Slicing a list\n",
    "print(\"Slice:\", my_amazing_list[1:3])\n",
    "\n",
    "# Concatenate lists\n",
    "my_big_list = my_amazing_list + my_other_list\n",
    "print(\"Concatenate:\", my_big_list)\n",
    "\n",
    "# You can concatenate using multiplication!\n",
    "print(\"Multiply:\", [\"hi\"] * 5)\n",
    "\n",
    "# Check if a list contains an element\n",
    "if \"wow\" in my_big_list:\n",
    "    print(\"'wow' is in my_big_list!\")\n",
    "else:\n",
    "    print(\"'wow' is not in my_big_list!\")\n",
    "\n",
    "# Deleting elements\n",
    "a = [1, 2, 3, 4, 5]\n",
    "print(\"\\nWorking with list\", a)\n",
    "del a[3] #behaves like popAt(3)\n",
    "print (a)\n",
    "del a[1:3]\n",
    "print (a)\n",
    "del a[:] #clears the list\n",
    "print (a)\n",
    "del a \n",
    "# print (a) now throws a NameError because a is no longer defined.\n",
    "\n",
    "# Deleting lists\n",
    "# Here's a common mistake. This doesn't delete anything, it just changes my_copy's pointer.\n",
    "my_other_amazing_list = my_amazing_list # Copies the pointer to the list, not the list.\n",
    "my_amazing_list = []\n",
    "print(\"\\nIncorrectly deleted list:\")\n",
    "print(\"--my_amazing_list:\", my_amazing_list)\n",
    "print(\"--my_other_amazing_list:\", my_other_amazing_list)\n",
    "\n",
    "# To truly delete a list, change what the pointer points to.\n",
    "my_fav_list = my_other_amazing_list\n",
    "my_shallow_copy = my_other_amazing_list[:]\n",
    "my_other_amazing_list.clear() #same as del my_other_amazing_list[:]\n",
    "print(\"\\nCorrectly deleted list:\")\n",
    "print(\"--my_fav_list:\", my_fav_list)\n",
    "print(\"--my_other_amazing_list:\", my_other_amazing_list)\n",
    "print(\"--my_shallow_copy:\", my_shallow_copy)"
   ]
  },
  {
   "cell_type": "markdown",
   "metadata": {},
   "source": [
    "## List Comprehension\n",
    "This is one of the more powerful ways python can create lists in one line...very similar to how we're used to seeing it in mathematical notation. This also is a particularly good use case for python's anonymous `lambda` function. The basic structure is as follows:\n",
    "> `[ expr for val in collection ]`\n",
    "\n",
    "You can add for nested for loops as well, and if you wanna get *really* picky, you can do this:\n",
    "> `[ expr for val in collection if another_expression ]`"
   ]
  },
  {
   "cell_type": "code",
   "execution_count": 5,
   "metadata": {},
   "outputs": [
    {
     "name": "stdout",
     "output_type": "stream",
     "text": [
      "We can do this one of two ways...\n",
      "\n",
      "The hard way...\n",
      " [1, 9, 25, 49, 81, 121, 169, 225, 289, 361, 441, 529, 625, 729, 841, 961, 1089, 1225, 1369, 1521, 1681, 1849, 2025, 2209, 2401, 2601, 2809, 3025, 3249, 3481, 3721, 3969, 4225, 4489, 4761, 5041, 5329, 5625, 5929, 6241, 6561, 6889, 7225, 7569, 7921, 8281, 8649, 9025, 9409, 9801]\n",
      "\n",
      "Or the easy way...\n",
      " [1, 9, 25, 49, 81, 121, 169, 225, 289, 361, 441, 529, 625, 729, 841, 961, 1089, 1225, 1369, 1521, 1681, 1849, 2025, 2209, 2401, 2601, 2809, 3025, 3249, 3481, 3721, 3969, 4225, 4489, 4761, 5041, 5329, 5625, 5929, 6241, 6561, 6889, 7225, 7569, 7921, 8281, 8649, 9025, 9409, 9801]\n"
     ]
    }
   ],
   "source": [
    "print(\"We can do this one of two ways...\")\n",
    "# How to make a list of all odd perfect squares between 1 and 100^2...the old fashioned way.\n",
    "trad_squares = []\n",
    "for i in range(1, 101):\n",
    "    if (i ** 2) % 2:\n",
    "        trad_squares.append(i ** 2)\n",
    "        \n",
    "print(\"\\nThe hard way...\\n\", trad_squares)\n",
    "\n",
    "# Not too bad, but look at the list comprehesion version...\n",
    "comprehensive_squares = [i**2 for i in range(1, 101) if (i**2) % 2]\n",
    "print(\"\\nOr the easy way...\\n\", comprehensive_squares)\n"
   ]
  },
  {
   "cell_type": "markdown",
   "metadata": {},
   "source": [
    "## Tuples\n",
    "I typically think of a tuple as a pair, but in python, they can be arbitrarily long. In many ways, tuples and lists behave much the same way, but with a few very key differences...\n",
    "\n",
    ">### Tuples are immutable.\n",
    ">You make a tuple, and that's it. If you want to modify the tuple, you need to recreate it from scratch. For example, if you have a tuple `banana = (1, 2, 3)` and you want to change the second element to 0, `banana[1] = 0` throws a TypeError.\n",
    "\n",
    ">### Lists take up more space.\n",
    ">Because tuples are immutable, python can do all sorts of fancy optimizations to make it take up less space. Lists aren't so lucky. So if you have a really large, immutable data set (like Google-sized for example), consider storing it as a tuple.\n",
    "\n",
    ">### Tuples can be declared with or without enclosing parentheses.\n",
    ">In other words, comma separated values on the right-hand-side of assignment are treated as a tuple. However, beware the case of the single tuple!\n",
    "\n",
    ">### Unpacking is awesome.\n",
    ">Just be sure that the number of variables matches the length of the list. Otherwise You'll get an error."
   ]
  },
  {
   "cell_type": "code",
   "execution_count": 6,
   "metadata": {},
   "outputs": [
    {
     "name": "stdout",
     "output_type": "stream",
     "text": [
      "Tuple Unpacking\n",
      "--name: Catie Jo\n",
      "--age: 23\n",
      "--knows python: True\n",
      "\n",
      "List Unpacking\n",
      "--name: Catie Jo\n",
      "--age: 23\n",
      "--knows python: True\n",
      "\n",
      "Oops: Catie Jo\n",
      "Fixed: ('Catie Jo',)\n"
     ]
    }
   ],
   "source": [
    "name, age, knows_python = (\"Catie Jo\", 23, True)\n",
    "print(\"Tuple Unpacking\")\n",
    "print(\"--name:\", name)\n",
    "print(\"--age:\", age)\n",
    "print(\"--knows python:\", knows_python)\n",
    "\n",
    "name, age, knows_python = [\"Catie Jo\", 23, True]\n",
    "print(\"\\nList Unpacking\")\n",
    "print(\"--name:\", name)\n",
    "print(\"--age:\", age)\n",
    "print(\"--knows python:\", knows_python)\n",
    "\n",
    "# Beware single tuples. This isn't a problem for lists, though.\n",
    "catiejo = (\"Catie Jo\")\n",
    "print (\"\\nOops:\", catiejo) # Doesn't print (\"Catie Jo\")\n",
    "fixed_catiejo = (\"Catie Jo\",) # The comma tells you to treat it as a tuple\n",
    "print (\"Fixed:\", fixed_catiejo)\n"
   ]
  },
  {
   "cell_type": "markdown",
   "metadata": {},
   "source": [
    "## Strings\n",
    "Strings are iterable objects. So if you have a string `fruit = \"banana\"`, `fruit[0]` gives you \"b\". This makes it really easy to treat strings like arrays. One thing to keep in mind though: despite the simplicity of the + operator for strings, it can actually become slow as you start repeatedly appending strings. **Strings are immutable in python**, just like many other languages, so in those cases you may want to optimize your concatenation if it becomes necessary. Using the `timeit` module is a pretty good way to do this. "
   ]
  },
  {
   "cell_type": "code",
   "execution_count": 7,
   "metadata": {},
   "outputs": [
    {
     "name": "stdout",
     "output_type": "stream",
     "text": [
      "Python is cool\n",
      "Python is cool\n",
      "\n",
      "Original text: This is an announcement\n",
      "this is an announcement\n",
      "THIS IS AN ANNOUNCEMENT\n",
      "This Is An Announcement\n",
      "\n",
      "['I', 'watched', 'the', 'storm,', 'so', 'beautiful', 'yet', 'terrific.']\n",
      "\n",
      "['walking', 'running', 'eating']\n",
      "['walk', 'walked', 'walking']\n",
      "Today I went to the store with Gwendelyn, and we bought 7 juicy apples\n",
      "Today I went to the store with friends, and we bought ['pie', 'balloons', 'condoms'] for Judy\n"
     ]
    }
   ],
   "source": [
    "subject = \"Python\"\n",
    "verb = \"is\"\n",
    "adjective = \"cool\"\n",
    "\n",
    "# String concatenation\n",
    "sentence = subject + \" \" + verb + \" \" + adjective\n",
    "print (sentence)\n",
    "sentence = \" \".join([subject, verb, adjective])\n",
    "print(sentence)\n",
    "\n",
    "# Playing with cases\n",
    "talk = \"This is an announcement\"\n",
    "print(\"\\nOriginal text:\", talk)\n",
    "if not talk.islower():\n",
    "    whisper = talk.lower()\n",
    "    print(whisper)\n",
    "if not talk.isupper():\n",
    "    shout = talk.upper()\n",
    "    print(shout)\n",
    "if not talk.istitle():\n",
    "    title = talk.title()\n",
    "    print(title)\n",
    "\n",
    "# Split a string\n",
    "words = \"I watched the storm, so beautiful yet terrific.\".split(\" \")\n",
    "print(\"\\n\" + str(words))\n",
    "\n",
    "# Nifty list comprehension using end/start substrings\n",
    "verbs = [[\"walk\", \"walked\", \"walking\"], [\"running\", \"ran\", \"run\"], [\"ate\", \"eating\", \"eat\"]]\n",
    "gerunds = [tense for verb in verbs for tense in verb if tense.endswith(\"ing\")]\n",
    "print(\"\\n\" + str(gerunds))\n",
    "to_walk = [tense for verb in verbs for tense in verb if tense.startswith(\"walk\")]\n",
    "print(to_walk)\n",
    "\n",
    "# Formatting\n",
    "person = \"Judy\"\n",
    "story = \"Today I went to the store with {}, and we bought {} {} {}\"\n",
    "print(story.format(\"Gwendelyn\", 7, \"juicy\", \"apples\"))\n",
    "print(story.format(\"friends\", [\"pie\", \"balloons\", \"condoms\"], \"for\", person))"
   ]
  },
  {
   "cell_type": "markdown",
   "metadata": {},
   "source": [
    "## Modules You Should Know\n",
    "### `import random`\n",
    "Awesome class for getting random numbers or even making random choices. **Don't use it for cryptography purposes...there's a `secret` module for that!**"
   ]
  },
  {
   "cell_type": "code",
   "execution_count": 8,
   "metadata": {},
   "outputs": [
    {
     "name": "stdout",
     "output_type": "stream",
     "text": [
      "random number: 0.16100526505093993\n",
      "dice roll: 5\n",
      "random even number: 18\n",
      "My fidget spinner is currently at 281.86 degrees\n",
      "The magic 8 ball says... Without a doubt\n",
      "The study's control group consists of ['benny', 'billy', 'bertram']\n"
     ]
    }
   ],
   "source": [
    "import random\n",
    "\n",
    "rand = random.random() # [0, 1)\n",
    "dice_roll = random.randint(1, 6) # [1, 6]\n",
    "rand_even = random.randrange(2, 100, 2) # even numbers from [2, 100)\n",
    "rotation_of_fidget_spinner = random.uniform(0, 359) # essentially a + (b - a) * random.random()\n",
    "\n",
    "magic_8 = [\"Without a doubt\", \"yes\", \"Ask again later\", \"Don't count on it\"]\n",
    "answer = random.choice(magic_8)\n",
    "\n",
    "participants = [\"billy\", \"bobby\", \"benny\", \"bernadette\", \"bertram\", \"barney\"]\n",
    "control_group = random.sample(participants, 3)\n",
    "\n",
    "print(\"random number:\", rand)\n",
    "print(\"dice roll:\", dice_roll)\n",
    "print(\"random even number:\", rand_even)\n",
    "print(\"My fidget spinner is currently at\", round(rotation_of_fidget_spinner, 2), \"degrees\")\n",
    "print(\"The magic 8 ball says...\", answer)\n",
    "print(\"The study's control group consists of\", control_group)"
   ]
  },
  {
   "cell_type": "markdown",
   "metadata": {},
   "source": [
    "### `from collections`\n",
    "#### `import Counter`\n",
    "A class that allows you to pass in an iterable, and it makes a hash map where the key is each element in the iterable, and the value is the number of times it appears.\n",
    "\n",
    "#### `import namedtuple`\n",
    "Allows you to create named tuples instead of the overhead of a class!"
   ]
  },
  {
   "cell_type": "code",
   "execution_count": 9,
   "metadata": {},
   "outputs": [
    {
     "name": "stdout",
     "output_type": "stream",
     "text": [
      "Banana counter: {'b': 1, 'a': 3, 'n': 2}\n",
      "Most common letters: [('a', 3), ('n', 2)]\n",
      "\n",
      "The origin is at x = 0 y = 0\n"
     ]
    }
   ],
   "source": [
    "from collections import Counter\n",
    "from collections import namedtuple\n",
    "\n",
    "banana_counter = Counter(\"banana\")\n",
    "print(\"Banana counter:\", dict(banana_counter))\n",
    "print(\"Most common letters:\", banana_counter.most_common(2))\n",
    "\n",
    "Point = namedtuple(\"Point\", [\"x\", \"y\"])\n",
    "origin = Point(0, 0)\n",
    "print(\"\\nThe origin is at x =\", origin.x, \"y =\", origin.y)\n"
   ]
  },
  {
   "cell_type": "markdown",
   "metadata": {},
   "source": [
    "## Errors\n",
    "Python has a lot of different error types, but if you wanna throw your own exceptions, there are two types to rule them all. To signal an unexpected event, you type:\n",
    ">`raise *Error_Type*(\"personalized error message!\")`.\n",
    "\n",
    "### Type Error\n",
    "Grâce à python's typelessness, you can end up passing objects/values to functions that don't belong. This raises a type error. There are countless examples of this, but here are a few I've found particularly bothersome.\n",
    "* Say you're adding strings to a list, then concatenating that string. If you accidentally add something that isn't a string to the list (totally do-able in python), when you call `.startsWith`, that method won't exist. Cue the type error.\n",
    "* Calling `len()` on what you think is a tuple of ints, but since the tuple only had one value, your variable was assigned just as an int, which doesn't have a `len()` property. Oopsie daisies.\n",
    "\n",
    "Even if python doesn't throw a type error though, you're still not necessarily in the clear. For example, say you have a function that just computes the sum of x and y. You expect x and y to be ints, so you just say `return x + y`. However, someone decides to download your module and doesn't RTFM (or you didn't write one...shame on you), and tries to use it to sum the values in two lists. This doesn't throw an error since adding two lists just concatenates them, but it doesn't return the expected value. \n",
    "\n",
    "Another example would be adding `5 + True`. This will return 6. Why? Because python essentially does `5 + int(True)` => 5 + 1 = 6. No type error, but this is rarely the desired behavior you're going for.\n",
    "\n",
    "Unfortunately, these are the sorts of bugs that can make you tear your hair out. However, as the internet is want to remind us when using python...\n",
    ">*We're all consenting adults here...*\n",
    "\n",
    "### Value Error\n",
    "A value error occurs when the type is right, but the value is wrong. For example, a function that computes the square root shouldn't take in negative numbers. Or a division function can't divide by zero. "
   ]
  }
 ],
 "metadata": {
  "kernelspec": {
   "display_name": "Python 3",
   "language": "python",
   "name": "python3"
  },
  "language_info": {
   "codemirror_mode": {
    "name": "ipython",
    "version": 3
   },
   "file_extension": ".py",
   "mimetype": "text/x-python",
   "name": "python",
   "nbconvert_exporter": "python",
   "pygments_lexer": "ipython3",
   "version": "3.6.1"
  }
 },
 "nbformat": 4,
 "nbformat_minor": 2
}
